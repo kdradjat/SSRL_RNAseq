{
 "cells": [
  {
   "cell_type": "code",
   "execution_count": null,
   "id": "f0e48fe8-679a-4362-8099-e2fd1038019d",
   "metadata": {},
   "outputs": [],
   "source": [
    "import numpy as np\n",
    "import pandas as pd\n",
    "import h5pyimport numpy as np\n",
    "import pandas as pd\n",
    "import h5py\n",
    "from collections import Counter\n",
    "import archs4py as a4\n",
    "from sklearn.preprocessing import StandardScaler, normalize\n",
    "import qnorm\n",
    "import time\n",
    "import os"
   ]
  },
  {
   "cell_type": "markdown",
   "id": "65375e60-c9eb-4f2c-8640-e5bb688bd682",
   "metadata": {},
   "source": [
    "# Extract tissue sample"
   ]
  },
  {
   "cell_type": "code",
   "execution_count": null,
   "id": "b50a8266-6440-4346-9f0a-2de3be3b1b93",
   "metadata": {},
   "outputs": [],
   "source": [
    "file = \"human_gene_v2.2.h5\"\n",
    "a4.ls(file)"
   ]
  },
  {
   "cell_type": "code",
   "execution_count": null,
   "id": "aa52fda2-4059-450e-a985-e7de1ec2d88e",
   "metadata": {},
   "outputs": [],
   "source": [
    "# extract samples\n",
    "# change columns names to ensembl_id\n",
    "samples_counts = a4.data.meta(file, \"tissue\", remove_sc=True)\n",
    "samples_counts = samples_counts.T\n",
    "gene_names = a4.meta.field(file, \"ensembl_gene_id\")\n",
    "samples_counts.columns = gene_names\n",
    "\n",
    "# extract metadata samples\n",
    "id_list = list(samples_counts.index)\n",
    "samples_meta = a4.meta.samples(file, id_list)\n",
    "\n",
    "# save if necessary\n",
    "#samples_counts.to_hdf(\"raw_tissue_matrix.h5\", key=\"data\", mode=\"w\")\n",
    "#samples_meta.to_hdf(\"raw_tissue_matrix.h5\", key=\"meta\")"
   ]
  },
  {
   "cell_type": "code",
   "execution_count": null,
   "id": "0d09faab-8254-4425-bdce-5d5d2eda0198",
   "metadata": {},
   "outputs": [],
   "source": [
    "# shapes\n",
    "samples_counts = samples_counts.T\n",
    "samples_counts.shape, samples_meta.shape"
   ]
  },
  {
   "cell_type": "markdown",
   "id": "762cf286-e9a7-4a1e-b31c-5b5401d4679a",
   "metadata": {},
   "source": [
    "# Clean data"
   ]
  },
  {
   "cell_type": "code",
   "execution_count": null,
   "id": "f9868a82-41f2-487e-97dc-786eface91b7",
   "metadata": {},
   "outputs": [],
   "source": [
    "df = samples_counts"
   ]
  },
  {
   "cell_type": "markdown",
   "id": "5583b576-dffc-407c-a1b4-609f06d77283",
   "metadata": {},
   "source": [
    "## Remove zero expression transcript"
   ]
  },
  {
   "cell_type": "code",
   "execution_count": null,
   "id": "85872ca0-5164-4b88-9dea-920593a940c8",
   "metadata": {},
   "outputs": [],
   "source": [
    "zero_expr_mask = df.apply(lambda x: x.sum() > 0 if x.dtype != 'object' else True)\n",
    "zero_expr_mask"
   ]
  },
  {
   "cell_type": "code",
   "execution_count": null,
   "id": "422c12b6-d4a5-462e-840c-64d6825da25a",
   "metadata": {},
   "outputs": [],
   "source": [
    "print(f'{df.shape[1] - df.loc[:, zero_expr_mask].shape[1]} number of the transcripts are filtered out because of the zero expression.')\n",
    "df = df.loc[:, zero_expr_mask]\n",
    "df.head()"
   ]
  },
  {
   "cell_type": "markdown",
   "id": "f822895d-1155-4214-84e9-938e06864c6e",
   "metadata": {},
   "source": [
    "## Replace missing values"
   ]
  },
  {
   "cell_type": "code",
   "execution_count": null,
   "id": "98853549-250a-48d3-8503-5bad4986f12c",
   "metadata": {},
   "outputs": [],
   "source": [
    "# replace by mean\n",
    "dict_normal = {}\n",
    "for col in df.columns :\n",
    "    mean = np.mean(df[col])\n",
    "    dict_normal[col] = int(np.round(mean))"
   ]
  },
  {
   "cell_type": "code",
   "execution_count": null,
   "id": "fcfe62f3-8a7d-492e-aa86-e1a07efb8edd",
   "metadata": {},
   "outputs": [],
   "source": [
    "# replace missing values with values in dict\n",
    "df = df.fillna(value=dict_normal)"
   ]
  },
  {
   "cell_type": "code",
   "execution_count": null,
   "id": "48f96232-db88-4417-8501-b47ab013f64d",
   "metadata": {},
   "outputs": [],
   "source": [
    "df.head()"
   ]
  },
  {
   "cell_type": "markdown",
   "id": "d311d076-889c-464e-8141-aa52d8fba9bb",
   "metadata": {},
   "source": [
    "## Save "
   ]
  },
  {
   "cell_type": "code",
   "execution_count": null,
   "id": "6f33eb66-c755-45cd-9540-593bff2cdc61",
   "metadata": {},
   "outputs": [],
   "source": [
    "df.to_parquet(\"clean_expression_matrix.parquet.gzip\", compression=\"gzip\")\n",
    "df.to_parquet(\"clean_expression_metadata.parquet.gzip\", compression=\"gzip\")"
   ]
  },
  {
   "cell_type": "markdown",
   "id": "77d28f2d-483b-485a-94b4-a04429ec5c33",
   "metadata": {},
   "source": [
    "# Log normalization + Quantile normalization"
   ]
  },
  {
   "cell_type": "code",
   "execution_count": null,
   "id": "85c4df5b-0aca-47a9-8f02-ab876fb5d5f0",
   "metadata": {},
   "outputs": [],
   "source": [
    "# Open file\n",
    "data_df = pd.read_parquet(\"clean_expression_matrix.parquet.gzip\")\n",
    "gene_list = data_df.columns"
   ]
  },
  {
   "cell_type": "code",
   "execution_count": null,
   "id": "de871550-ed9a-4791-b7fd-f2ad2f6e0f20",
   "metadata": {},
   "outputs": [],
   "source": [
    "# Convert to numpy\n",
    "data_df = data_df.to_numpy()"
   ]
  },
  {
   "cell_type": "code",
   "execution_count": null,
   "id": "5b608fcb-58fa-442b-a546-2a984ef92b23",
   "metadata": {},
   "outputs": [],
   "source": [
    "# log normalization\n",
    "data_df = np.log2(data_df+1)\n",
    "\n",
    "# quantile normalization\n",
    "data_df = qnorm.quantile_normalize(data_df, ncpus=4)"
   ]
  },
  {
   "cell_type": "code",
   "execution_count": null,
   "id": "d8993c48-98d9-48d8-b993-b1891e64cbdf",
   "metadata": {},
   "outputs": [],
   "source": [
    "# save\n",
    "#data_df.to_parquet('normalized_expression_matrix.parquet.gzip', compression='gzip')\n",
    "np.savez_compressed('normalized_expression_matrix.npz', data_df)"
   ]
  },
  {
   "cell_type": "markdown",
   "id": "22ef29d7-3b04-450f-891e-2b4587f320be",
   "metadata": {},
   "source": [
    "# Convert to DataFrame"
   ]
  },
  {
   "cell_type": "code",
   "execution_count": null,
   "id": "29cb191a-73c2-4e71-acef-0902f1e6f1f5",
   "metadata": {},
   "outputs": [],
   "source": [
    "# load data\n",
    "data_npz = np.load('normalized_expression_matrix.npz')\n",
    "data = data_npz['arr_0']\n",
    "data = data.astype('float32')\n",
    "data_npz.close()"
   ]
  },
  {
   "cell_type": "code",
   "execution_count": null,
   "id": "5241f20a-fb1e-48b7-863e-2846e200a262",
   "metadata": {},
   "outputs": [],
   "source": [
    "metadata = pd.read_parquet('clean_expression_matrix.parquet.gzip')\n",
    "genes_list = metadata.columns"
   ]
  },
  {
   "cell_type": "code",
   "execution_count": null,
   "id": "3686a6e6-bfc9-4521-b9a0-9b67a1434334",
   "metadata": {},
   "outputs": [],
   "source": [
    "df = pd.DataFrame(data, columns=genes_list)\n",
    "df.to_parquet('normalized_expression_data.parquet.gzip', compression='gzip')"
   ]
  },
  {
   "cell_type": "markdown",
   "id": "892f75ac-2a53-4bc6-afbd-ab2e739e595d",
   "metadata": {},
   "source": [
    "# Isolate tissue type"
   ]
  },
  {
   "cell_type": "code",
   "execution_count": null,
   "id": "ad9b23b5-f789-4498-a46b-8cd3a22a3c39",
   "metadata": {},
   "outputs": [],
   "source": [
    "# load data\n",
    "start = time.time()\n",
    "metadata = pd.read_parquet('clean_expression_matrix_metadata.parquet.gzip')\n",
    "data = pd.read_parquet('normalized_expression_data.parquet.gzip')\n",
    "end = time.time()\n",
    "print((end-start)/60)"
   ]
  },
  {
   "cell_type": "markdown",
   "id": "50f31a15-dc54-4f30-8e82-f6841924f4a1",
   "metadata": {},
   "source": [
    "## Counts for each type"
   ]
  },
  {
   "cell_type": "code",
   "execution_count": null,
   "id": "3f2e69ff-9d43-4a27-9a6c-45b7039d4fb6",
   "metadata": {},
   "outputs": [],
   "source": [
    "brain_selection = []\n",
    "skin_selection = []\n",
    "neuron_selection = []\n",
    "lung_selection = []\n",
    "colon_selection = []\n",
    "liver_selection = []\n",
    "breast_selection = []\n",
    "kidney_selection = []\n",
    "bladder_selection = []\n",
    "cervix_selection = []\n",
    "ovary_selection = []\n",
    "prostate_selection = []\n",
    "sarcoma_selection = []\n",
    "headneck_selection = []\n",
    "stomach_selection = []\n",
    "thyroid_selection = []\n",
    "uterine_selection = []\n",
    "heart_selection = []\n",
    "pancreas_selection = []\n",
    "\n",
    "\n",
    "brain_mask = []\n",
    "skin_mask = []\n",
    "neuron_mask = []\n",
    "lung_mask = []\n",
    "colon_mask = []\n",
    "liver_mask = []\n",
    "breast_mask = []\n",
    "kidney_mask = []\n",
    "bladder_mask = []\n",
    "cervix_mask = []\n",
    "ovary_mask = []\n",
    "prostate_mask = []\n",
    "sarcoma_mask = []\n",
    "headneck_mask = []\n",
    "stomach_mask = []\n",
    "thyroid_mask = []\n",
    "uterine_mask = []\n",
    "heart_mask = []\n",
    "pancreas_mask = []\n",
    "\n",
    "selection_mask = []\n",
    "organ_label = []\n",
    "\n",
    "#organ_list = ['BRAIN','SKIN','LUNG','COLON','LIVER','BREAST','KIDNEY','BLADDER','CERVIX','OVARY','PROSTATE','SQUAMOUS','MOUTH','STOMACH','THYROID','UTERINE']\n",
    "organ_list = ['BRAIN','SKIN','NEURON','LUNG','COLON','LIVER','BREAST','KIDNEY','BLADDER','CERVIX','OVARY','PROSTATE','SQUAMOUS','MOUTH','STOMACH','THYROID','UTERINE','HEART','PANCREAS']\n",
    "\n",
    "selection_list = [brain_selection,skin_selection,neuron_selection,lung_selection,colon_selection,liver_selection,breast_selection,kidney_selection,\n",
    "                  bladder_selection,cervix_selection,ovary_selection,prostate_selection,sarcoma_selection,headneck_selection,stomach_selection,\n",
    "                  thyroid_selection,uterine_selection,heart_selection,pancreas_selection]\n",
    "mask_list = [brain_mask,skin_mask,neuron_mask,lung_mask,colon_mask,liver_mask,breast_mask,kidney_mask,\n",
    "                  bladder_mask,cervix_mask,ovary_mask,prostate_mask,sarcoma_mask,headneck_mask,stomach_mask,\n",
    "                  thyroid_mask,uterine_mask,heart_mask,pancreas_mask]\n",
    "labels = []\n",
    "\n",
    "for charac in metadata['characteristics_ch1'] :\n",
    "    for organ, selection, mask in zip(organ_list, selection_list, mask_list) :\n",
    "        if organ in charac :\n",
    "            selection.append(charac)\n",
    "            mask.append(1)\n",
    "            labels.append(organ)\n",
    "        else : mask.append(0)"
   ]
  },
  {
   "cell_type": "code",
   "execution_count": null,
   "id": "d8d06eb2-de98-47ff-9893-2de007ec8e72",
   "metadata": {},
   "outputs": [],
   "source": [
    "brain_data = pd.DataFrame(columns=data.columns)\n",
    "brain_metadata = pd.DataFrame(columns=metadata.columns)\n",
    "skin_data = pd.DataFrame(columns=data.columns)\n",
    "skin_metadata = pd.DataFrame(columns=metadata.columns)\n",
    "neuron_data = pd.DataFrame(columns=data.columns)\n",
    "neuron_metadata = pd.DataFrame(columns=metadata.columns)\n",
    "lung_data = pd.DataFrame(columns=data.columns)\n",
    "lung_metadata = pd.DataFrame(columns=metadata.columns)\n",
    "colon_data = pd.DataFrame(columns=data.columns)\n",
    "colon_metadata = pd.DataFrame(columns=metadata.columns)\n",
    "pancreas_data = pd.DataFrame(columns=data.columns)\n",
    "pancreas_metadata = pd.DataFrame(columns=metadata.columns)\n",
    "kidney_data = pd.DataFrame(columns=data.columns)\n",
    "kidney_metadata = pd.DataFrame(columns=metadata.columns)\n",
    "heart_data = pd.DataFrame(columns=data.columns)\n",
    "heart_metadata = pd.DataFrame(columns=metadata.columns)\n",
    "liver_data = pd.DataFrame(columns=data.columns)\n",
    "liver_metadata = pd.DataFrame(columns=metadata.columns)\n",
    "breast_data = pd.DataFrame(columns=data.columns)\n",
    "breast_metadata = pd.DataFrame(columns=metadata.columns)\n",
    "\n",
    "bladder_data = pd.DataFrame(columns=data.columns)\n",
    "bladder_metadata = pd.DataFrame(columns=metadata.columns)\n",
    "cervix_data = pd.DataFrame(columns=data.columns)\n",
    "cervix_metadata = pd.DataFrame(columns=metadata.columns)\n",
    "ovary_data = pd.DataFrame(columns=data.columns)\n",
    "ovary_metadata = pd.DataFrame(columns=metadata.columns)\n",
    "prostate_data = pd.DataFrame(columns=data.columns)\n",
    "prostate_metadata = pd.DataFrame(columns=metadata.columns)\n",
    "sarcoma_data = pd.DataFrame(columns=data.columns)\n",
    "sarcoma_metadata = pd.DataFrame(columns=metadata.columns)\n",
    "headneck_data = pd.DataFrame(columns=data.columns)\n",
    "headneck_metadata = pd.DataFrame(columns=metadata.columns)\n",
    "stomach_data = pd.DataFrame(columns=data.columns)\n",
    "stomach_metadata = pd.DataFrame(columns=metadata.columns)\n",
    "thyroid_data = pd.DataFrame(columns=data.columns)\n",
    "thyroid_metadata = pd.DataFrame(columns=metadata.columns)\n",
    "uterine_data = pd.DataFrame(columns=data.columns)\n",
    "uterine_metadata = pd.DataFrame(columns=metadata.columns)"
   ]
  },
  {
   "cell_type": "code",
   "execution_count": null,
   "id": "6ce1ae1d-2bb8-4ac1-a6d2-387f558304d1",
   "metadata": {},
   "outputs": [],
   "source": [
    "data_list = [brain_data,skin_data,neuron_data,lung_data,colon_data,pancreas_data,kidney_data,heart_data,liver_data,breast_data,\n",
    "            bladder_data,cervix_data,ovary_data,prostate_data,sarcoma_data,headneck_data,stomach_data,thyroid_data,uterine_data]\n",
    "metadata_list = [brain_metadata,skin_metadata,neuron_metadata,lung_metadata,colon_metadata,pancreas_metadata,kidney_metadata,heart_metadata,liver_metadata,breast_metadata,\n",
    "            bladder_metadata,cervix_metadata,ovary_metadata,prostate_metadata,sarcoma_metadata,headneck_metadata,stomach_metadata,thyroid_metadata,uterine_metadata]\n",
    "mask_list = [brain_mask,skin_mask,neuron_mask,lung_mask,colon_mask,pancreas_mask,kidney_mask,heart_mask,liver_mask,breast_mask,\n",
    "            bladder_mask,cervix_mask,ovary_mask,prostate_mask,sarcoma_mask,headneck_mask,stomach_mask,thyroid_mask,uterine_mask]"
   ]
  },
  {
   "cell_type": "code",
   "execution_count": null,
   "id": "fdb1808d-c09b-41f2-9a8d-5d3bf5117fb5",
   "metadata": {},
   "outputs": [],
   "source": [
    "start = time.time()\n",
    "\n",
    "for data_type, metadata_type, data_mask in zip(data_list, metadata_list, mask_list):\n",
    "    for i, mask in enumerate(data_mask) :\n",
    "        if mask == 1 :\n",
    "            data_type.loc[len(data_type)] = data.iloc[i]\n",
    "            metadata_type.loc[len(metadata_type)] = metadata.iloc[i]\n",
    "\n",
    "print(time.time()-start)"
   ]
  },
  {
   "cell_type": "markdown",
   "id": "cc63f28b-a685-40c8-8d28-84011c3e078c",
   "metadata": {},
   "source": [
    "## Save each tissue type (if necessary)"
   ]
  },
  {
   "cell_type": "code",
   "execution_count": null,
   "id": "da6ac2ce-d61b-4915-9ccb-7c0ea5bd4994",
   "metadata": {},
   "outputs": [],
   "source": [
    "organ_list = [brain,skin,neuron,lung,colon,pancreas,kidney,heart,liver,breast,bladder,cervix,ovary,prostate,sarcoma,headneck,stomach,thyroid,uterine]\n",
    "for organ_data, organ_metadata, organ in zip(data_list, metadata_list, organ_list):\n",
    "    organ_data.to_parquet(f'specific/{organ}_data.parquet.gzip', compression='gzip')\n",
    "    organ_metadata.to_parquet(f'specific/{organ}_metadata.parquet.gzip', compression='gzip')"
   ]
  },
  {
   "cell_type": "markdown",
   "id": "8ae04839-3b9a-4a4e-9450-e503b90c950b",
   "metadata": {},
   "source": [
    "## Add labels to metadata"
   ]
  },
  {
   "cell_type": "markdown",
   "id": "7cc7e6ab-091a-4457-8d9b-641eaa648d5d",
   "metadata": {},
   "source": [
    "### Tissue type"
   ]
  },
  {
   "cell_type": "code",
   "execution_count": null,
   "id": "d9a30e19-802c-4b63-83a3-a1719dde4f07",
   "metadata": {},
   "outputs": [],
   "source": [
    "# load if necessary\n",
    "brain_data = pd.read_parquet('specific/brain_data.parquet.gzip')\n",
    "brain_metadata = pd.read_parquet('specific/brain_metadata.parquet.gzip')\n",
    "skin_data = pd.read_parquet('specific/skin_data.parquet.gzip')\n",
    "skin_metadata = pd.read_parquet('specific/skin_metadata.parquet.gzip')\n",
    "neuron_data = pd.read_parquet('specific/neuron_data.parquet.gzip')\n",
    "neuron_metadata = pd.read_parquet('specific/neuron_metadata.parquet.gzip')\n",
    "lung_data = pd.read_parquet('specific/lung_data.parquet.gzip')\n",
    "lung_metadata = pd.read_parquet('specific/lung_metadata.parquet.gzip')\n",
    "colon_data = pd.read_parquet('specific/colon_data.parquet.gzip')\n",
    "colon_metadata = pd.read_parquet('specific/colon_metadata.parquet.gzip')\n",
    "pancreas_data = pd.read_parquet('specific/pancreas_data.parquet.gzip')\n",
    "pancreas_metadata = pd.read_parquet('specific/pancreas_metadata.parquet.gzip')\n",
    "kidney_data = pd.read_parquet('specific/kidney_data.parquet.gzip')\n",
    "kidney_metadata = pd.read_parquet('specific/kidney_metadata.parquet.gzip')\n",
    "heart_data = pd.read_parquet('specific/heart_data.parquet.gzip')\n",
    "heart_metadata = pd.read_parquet('specific/heart_metadata.parquet.gzip')\n",
    "liver_data = pd.read_parquet('specific/liver_data.parquet.gzip')\n",
    "liver_metadata = pd.read_parquet('specific/liver_metadata.parquet.gzip')\n",
    "breast_data = pd.read_parquet('specific/breast_data.parquet.gzip')\n",
    "breast_metadata = pd.read_parquet('specific/breast_metadata.parquet.gzip')\n",
    "\n",
    "bladder_data = pd.read_parquet('specific/bladder_data.parquet.gzip')\n",
    "bladder_metadata = pd.read_parquet('specific/bladder_metadata.parquet.gzip')\n",
    "cervix_data = pd.read_parquet('specific/cervix_data.parquet.gzip')\n",
    "cervix_metadata = pd.read_parquet('specific/cervix_metadata.parquet.gzip')\n",
    "ovary_data = pd.read_parquet('specific/ovary_data.parquet.gzip')\n",
    "ovary_metadata = pd.read_parquet('specific/ovary_metadata.parquet.gzip')\n",
    "prostate_data = pd.read_parquet('specific/prostate_data.parquet.gzip')\n",
    "prostate_metadata = pd.read_parquet('specific/prostate_metadata.parquet.gzip')\n",
    "sarcoma_data = pd.read_parquet('specific/sarcoma_data.parquet.gzip')\n",
    "sarcoma_metadata = pd.read_parquet('specific/sarcoma_metadata.parquet.gzip')\n",
    "headneck_data = pd.read_parquet('specific/headneck_data.parquet.gzip')\n",
    "headneck_metadata = pd.read_parquet('specific/headneck_metadata.parquet.gzip')\n",
    "stomach_data = pd.read_parquet('specific/stomach_data.parquet.gzip')\n",
    "stomach_metadata = pd.read_parquet('specific/stomach_metadata.parquet.gzip')\n",
    "thyroid_data = pd.read_parquet('specific/thyroid_data.parquet.gzip')\n",
    "thyroid_metadata = pd.read_parquet('specific/thyroid_metadata.parquet.gzip')\n",
    "uterine_data = pd.read_parquet('specific/uterine_data.parquet.gzip')\n",
    "uterine_metadata = pd.read_parquet('specific/uterine_metadata.parquet.gzip')"
   ]
  },
  {
   "cell_type": "code",
   "execution_count": null,
   "id": "ea15b5b6-5d71-4e03-851d-a4a19adc3f66",
   "metadata": {},
   "outputs": [],
   "source": [
    "brain_labels = ['brain' for i in range(brain_data.shape[0])]\n",
    "skin_labels = ['skin' for i in range(skin_data.shape[0])]\n",
    "neuron_labels = ['neuron' for i in range(neuron_data.shape[0])]\n",
    "lung_labels = ['lung' for i in range(lung_data.shape[0])]\n",
    "colon_labels = ['colon' for i in range(colon_data.shape[0])]\n",
    "pancreas_labels = ['pancreas' for i in range(pancreas_data.shape[0])]\n",
    "kidney_labels = ['kidney' for i in range(kidney_data.shape[0])]\n",
    "heart_labels = ['heart' for i in range(heart_data.shape[0])]\n",
    "liver_labels = ['liver' for i in range(liver_data.shape[0])]\n",
    "breast_labels = ['breast' for i in range(breast_data.shape[0])]\n",
    "\n",
    "bladder_labels = ['bladder' for i in range(bladder_data.shape[0])]\n",
    "cervix_labels = ['cervix' for i in range(cervix_data.shape[0])]\n",
    "ovary_labels = ['ovary' for i in range(ovary_data.shape[0])]\n",
    "prostate_labels = ['prostate' for i in range(prostate_data.shape[0])]\n",
    "sarcoma_labels = ['sarcoma' for i in range(sarcoma_data.shape[0])]\n",
    "headneck_labels = ['headneck' for i in range(headneck_data.shape[0])]\n",
    "stomach_labels = ['stomach' for i in range(stomach_data.shape[0])]\n",
    "thyroid_labels = ['thyroid' for i in range(thyroid_data.shape[0])]\n",
    "uterine_labels = ['uterine' for i in range(uterine_data.shape[0])] "
   ]
  },
  {
   "cell_type": "code",
   "execution_count": null,
   "id": "9b01fac8-a270-4de3-9500-cedf6685fe7e",
   "metadata": {},
   "outputs": [],
   "source": [
    "labels_list = [brain_labels,skin_labels,neuron_labels,lung_labels,colon_labels,pancreas_labels,kidney_labels,heart_labels,liver_labels,breast_labels,\n",
    "              bladder_labels,cervix_labels,ovary_labels,prostate_labels,sarcoma_labels,headneck_labels,stomach_labels,thyroid_labels,uterine_labels]"
   ]
  },
  {
   "cell_type": "code",
   "execution_count": null,
   "id": "cfb11e19-bef8-4c9e-a65a-8268eec190ad",
   "metadata": {},
   "outputs": [],
   "source": [
    "for organ_metadata, labels in zip(metadata_list, labels_list):\n",
    "    organ_metadata['labels'] = labels"
   ]
  },
  {
   "cell_type": "markdown",
   "id": "fed3d960-9b05-4e96-8cfd-b50d485c3092",
   "metadata": {},
   "source": [
    "### Cancer type"
   ]
  },
  {
   "cell_type": "code",
   "execution_count": null,
   "id": "7a40ffb8-c04c-48b6-bfaf-6b0264e86daa",
   "metadata": {},
   "outputs": [],
   "source": [
    "for organ_metadata in metadata_list:\n",
    "    cancer_type = []\n",
    "    for line in metadata['characteristics_ch1']:\n",
    "        if 'CANCER' in line or 'TUMOR' in line : cancer_type.append('cancer')\n",
    "        else : cancer_type.append('normal')\n",
    "    organ_metadata['cancer_type'] = cancer_type"
   ]
  },
  {
   "cell_type": "markdown",
   "id": "a9f8d511-c3da-4dea-b33e-ce4de9af524c",
   "metadata": {},
   "source": [
    "### Save new metadata"
   ]
  },
  {
   "cell_type": "code",
   "execution_count": null,
   "id": "7e38c3af-8c8a-45ac-b971-0ae49a0fd57b",
   "metadata": {},
   "outputs": [],
   "source": [
    "organ_list = [brain,skin,neuron,lung,colon,pancreas,kidney,heart,liver,breast,bladder,cervix,ovary,prostate,sarcoma,headneck,stomach,thyroid,uterine]\n",
    "for organ_metadata, organ in zip(metadata_list, organ_list):\n",
    "    organ_metadata.to_parquet(f'specific/{organ}_metadata.parquet.gzip', compression='gzip')"
   ]
  },
  {
   "cell_type": "markdown",
   "id": "aa3a8977-d574-4149-be98-7b7c0aea5ac1",
   "metadata": {},
   "source": [
    "# Apply BEC"
   ]
  },
  {
   "cell_type": "code",
   "execution_count": null,
   "id": "c8da3687-9097-4eb3-95b0-78fdb7ac16b7",
   "metadata": {},
   "outputs": [],
   "source": [
    "from combat.pycombat import pycombat\n",
    "import numpy as np"
   ]
  },
  {
   "cell_type": "code",
   "execution_count": null,
   "id": "840b43d8-614f-4f7a-9f13-63d23c4785c3",
   "metadata": {},
   "outputs": [],
   "source": [
    "# add noise\n",
    "# little noise must be injected to apply pycombat \n",
    "gaussian_noise = np.random.normal(0, 0.0001, lung_data.shape)\n",
    "lung_data_noise = lung_data + gaussian_noise\n",
    "\n",
    "gaussian_noise = np.random.normal(0, 0.0001, skin_data.shape)\n",
    "skin_data_noise = skin_data + gaussian_noise\n",
    "\n",
    "gaussian_noise = np.random.normal(0, 0.0001, brain_data.shape)\n",
    "brain_data_noise = brain_data + gaussian_noise\n",
    "\n",
    "gaussian_noise = np.random.normal(0, 0.0001, breast_data.shape)\n",
    "breast_data_noise = breast_data + gaussian_noise\n",
    "\n",
    "gaussian_noise = np.random.normal(0, 0.0001, colon_data.shape)\n",
    "colon_data_noise = colon_data + gaussian_noise\n",
    "\n",
    "gaussian_noise = np.random.normal(0, 0.0001, heart_data.shape)\n",
    "heart_data_noise = heart_data + gaussian_noise\n",
    "\n",
    "gaussian_noise = np.random.normal(0, 0.0001, liver_data.shape)\n",
    "liver_data_noise = liver_data + gaussian_noise\n",
    "\n",
    "gaussian_noise = np.random.normal(0, 0.0001, neuron_data.shape)\n",
    "neuron_data_noise = neuron_data + gaussian_noise\n",
    "\n",
    "gaussian_noise = np.random.normal(0, 0.0001, pancreas_data.shape)\n",
    "pancreas_data_noise = pancreas_data + gaussian_noise\n",
    "\n",
    "gaussian_noise = np.random.normal(0, 0.0001, kidney_data.shape)\n",
    "kidney_data_noise = kidney_data + gaussian_noise\n",
    "\n",
    "gaussian_noise = np.random.normal(0, 0.0001, bladder_data.shape)\n",
    "bladder_data_noise = bladder_data + gaussian_noise\n",
    "\n",
    "gaussian_noise = np.random.normal(0, 0.0001, cervix_data.shape)\n",
    "cervix_data_noise = cervix_data + gaussian_noise\n",
    "\n",
    "gaussian_noise = np.random.normal(0, 0.0001, ovary_data.shape)\n",
    "ovary_data_noise = ovary_data + gaussian_noise\n",
    "\n",
    "gaussian_noise = np.random.normal(0, 0.0001, prostate_data.shape)\n",
    "prostate_data_noise = prostate_data + gaussian_noise\n",
    "\n",
    "gaussian_noise = np.random.normal(0, 0.0001, sarcoma_data.shape)\n",
    "sarcoma_data_noise = sarcoma_data + gaussian_noise\n",
    "\n",
    "gaussian_noise = np.random.normal(0, 0.0001, headneck_data.shape)\n",
    "headneck_data_noise = headneck_data + gaussian_noise\n",
    "\n",
    "gaussian_noise = np.random.normal(0, 0.0001, stomach_data.shape)\n",
    "stomach_data_noise = stomach_data + gaussian_noise\n",
    "\n",
    "gaussian_noise = np.random.normal(0, 0.0001, thyroid_data.shape)\n",
    "thyroid_data_noise = thyroid_data + gaussian_noise\n",
    "\n",
    "gaussian_noise = np.random.normal(0, 0.0001, uterine_data.shape)\n",
    "uterine_data_noise = uterine_data + gaussian_noise"
   ]
  },
  {
   "cell_type": "code",
   "execution_count": null,
   "id": "86d0d6e7-83fa-4482-81d7-c3f1ba41e4b1",
   "metadata": {},
   "outputs": [],
   "source": [
    "lung_data_corrected = pycombat(lung_data_noise.T, list(lung_batches), mean_only=True)\n",
    "skin_data_corrected = pycombat(skin_data_noise.T, list(skin_batches), mean_only=True)\n",
    "brain_data_corrected = pycombat(brain_data_noise.T, list(brain_batches), mean_only=True)\n",
    "breast_data_corrected = pycombat(breast_data_noise.T, list(breast_batches), mean_only=True)\n",
    "colon_data_corrected = pycombat(colon_data_noise.T, list(colon_batches), mean_only=True)\n",
    "heart_data_corrected = pycombat(heart_data_noise.T, list(heart_batches), mean_only=True)\n",
    "liver_data_corrected = pycombat(liver_data_noise.T, list(liver_batches), mean_only=True)\n",
    "neuron_data_corrected = pycombat(neuron_data_noise.T, list(neuron_batches), mean_only=True)\n",
    "pancreas_data_corrected = pycombat(pancreas_data_noise.T, list(pancreas_batches), mean_only=True)\n",
    "kidney_data_corrected = pycombat(kidney_data_noise.T, list(kidney_batches), mean_only=True)\n",
    "\n",
    "bladder_data_corrected = pycombat(bladder_data_noise.T, list(bladder_batches), mean_only=True)\n",
    "cervix_data_corrected = pycombat(cervix_data_noise.T, list(cervix_batches), mean_only=True)\n",
    "ovary_data_corrected = pycombat(ovary_data_noise.T, list(ovary_batches), mean_only=True)\n",
    "prostate_data_corrected = pycombat(prostate_data_noise.T, list(prostate_batches), mean_only=True)\n",
    "sarcoma_data_corrected = pycombat(sarcoma_data_noise.T, list(sarcoma_batches), mean_only=True)\n",
    "headneck_data_corrected = pycombat(headneck_data_noise.T, list(headneck_batches), mean_only=True)\n",
    "stomach_data_corrected = pycombat(stomach_data_noise.T, list(stomach_batches), mean_only=True)\n",
    "thyroid_data_corrected = pycombat(thyroid_data_noise.T, list(thyroid_batches), mean_only=True)\n",
    "uterine_data_corrected = pycombat(uterine_data_noise.T, list(uterine_batches), mean_only=True)"
   ]
  },
  {
   "cell_type": "code",
   "execution_count": null,
   "id": "3a823715-27d1-46c0-a7d5-d56adbc4ecf6",
   "metadata": {},
   "outputs": [],
   "source": [
    "lung_data_corrected = lung_data_corrected.T\n",
    "skin_data_corrected = skin_data_corrected.T\n",
    "brain_data_corrected = brain_data_corrected.T\n",
    "breast_data_corrected = breast_data_corrected.T\n",
    "colon_data_corrected = colon_data_corrected.T\n",
    "heart_data_corrected = heart_data_corrected.T\n",
    "liver_data_corrected = liver_data_corrected.T\n",
    "neuron_data_corrected = neuron_data_corrected.T\n",
    "pancreas_data_corrected = pancreas_data_corrected.T\n",
    "kidney_data_corrected = kidney_data_corrected.T\n",
    "\n",
    "bladder_data_corrected = bladder_data_corrected.T\n",
    "cervix_data_corrected = cervix_data_corrected.T\n",
    "ovary_data_corrected = ovary_data_corrected.T\n",
    "prostate_data_corrected = prostate_data_corrected.T\n",
    "sarcoma_data_corrected = sarcoma_data_corrected.T\n",
    "headneck_data_corrected = headneck_data_corrected.T\n",
    "stomach_data_corrected = stomach_data_corrected.T\n",
    "thyroid_data_corrected = thyroid_data_corrected.T\n",
    "uterine_data_corrected = uterine_data_corrected.T"
   ]
  },
  {
   "cell_type": "markdown",
   "id": "3eaba236-f60b-4d60-9676-916ddc29dbff",
   "metadata": {},
   "source": [
    "# Merge tissue type datasets and metadata"
   ]
  },
  {
   "cell_type": "code",
   "execution_count": null,
   "id": "6e7063a1-6ed2-41f1-9263-2c7f4cf18886",
   "metadata": {},
   "outputs": [],
   "source": [
    "# 10 classes version \n",
    "merged_dataset = pd.concat([brain_data_corrected,skin_data_corrected,neuron_data_corrected,lung_data_corrected,colon_data_corrected,pancreas_data_corrected,kidney_data_corrected,heart_data_corrected,liver_data_corrected,breast_data_corrected])\n",
    "merged_metadata = pd.concat([brain_metadata,skin_metadata,neuron_metadata,lung_metadata,colon_meatadata,pancreas_metadata,kidney_metadata,heart_metadata,liver_metadata,breast_metadata])\n",
    "\n",
    "# 19 classes version (include TCGA classes)\n",
    "merged_dataset = pd.concat([brain_data_corrected,skin_data_corrected,neuron_data_corrected,lung_data_corrected,colon_data_corrected,pancreas_data_corrected,kidney_data_corrected,heart_data_corrected,liver_data_corrected,breast_data_corrected,bladder_data_corrected,cervix_data_corrected,ovary_data_corrected,prostate_data_corrected,sarcoma_data_corrected,headneck_data_corrected,stomach_data_corrected,thyroid_data_corrected,uterine_data_corrected])\n",
    "merged_metadata = pd.concat([brain_metadata,skin_metadata,neuron_metadata,lung_metadata,colon_meatadata,pancreas_metadata,kidney_metadata,heart_metadata,liver_metadata,breast_metadata,bladder_metadata,cervix_metadata,ovary_metadata,prostate_metadata,sarcoma_metadata,headneck_metadata,stomach_metadata,thyroid_metadata,uterine_metadata])\n",
    "\n",
    "# new classes version (only missing TCGA classes)\n",
    "merged_dataset = pd.concat([bladder_data_corrected,cervix_data_corrected,ovary_data_corrected,prostate_data_corrected,sarcoma_data_corrected,headneck_data_corrected,stomach_data_corrected,thyroid_data_corrected,uterine_data_corrected])\n",
    "merged_metadata = pd.concat([bladder_metadata,cervix_metadata,ovary_metadata,prostate_metadata,sarcoma_metadata,headneck_metadata,stomach_metadata,thyroid_metadata,uterine_metadata])"
   ]
  },
  {
   "cell_type": "markdown",
   "id": "1fab1d33-f362-4ca5-8d70-4d2d492f52f2",
   "metadata": {},
   "source": [
    "# Save final datasets"
   ]
  },
  {
   "cell_type": "code",
   "execution_count": null,
   "id": "94b52ff5-894a-4204-825e-9a55c750b890",
   "metadata": {},
   "outputs": [],
   "source": [
    "merged_dataset.to_parquet(\"specific/archs4_10classes_data.parquet.gzip\", compression=\"gzip\")\n",
    "merged_metadata.to_parquet(\"specific/archs4_10classes_metadata.parquet.gzip\", compression=\"gzip\")"
   ]
  }
 ],
 "metadata": {
  "kernelspec": {
   "display_name": "Python 3.9",
   "language": "python",
   "name": "python-3.9"
  },
  "language_info": {
   "codemirror_mode": {
    "name": "ipython",
    "version": 3
   },
   "file_extension": ".py",
   "mimetype": "text/x-python",
   "name": "python",
   "nbconvert_exporter": "python",
   "pygments_lexer": "ipython3",
   "version": "3.9.15"
  }
 },
 "nbformat": 4,
 "nbformat_minor": 5
}
