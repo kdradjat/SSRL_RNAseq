{
 "cells": [
  {
   "cell_type": "code",
   "execution_count": null,
   "metadata": {},
   "outputs": [],
   "source": [
    "%load_ext autoreload\n",
    "%autoreload 2\n",
    "\n",
    "import numpy as np\n",
    "import pandas as pd\n",
    "from sklearn.feature_selection import VarianceThreshold\n",
    "from sklearn.linear_model import LogisticRegression\n",
    "from sklearn.decomposition import PCA\n",
    "from sklearn.model_selection import cross_val_predict\n",
    "from sklearn.pipeline import make_pipeline\n",
    "from sklearn.preprocessing import StandardScaler\n",
    "from sklearn import metrics\n",
    "\n",
    "from ssrl_rnaseq.split import pretrain_downstream_split, GroupKShotsFold\n",
    "from ssrl_rnaseq.data import load_tcga"
   ]
  },
  {
   "cell_type": "code",
   "execution_count": null,
   "metadata": {},
   "outputs": [],
   "source": [
    "data = load_tcga(\"../../data/label.parquet\", \"../../data/mRNA.omics.parquet\")\n",
    "\n",
    "data = data.loc[\n",
    "    data[\"clinical\", \"patient\"].notnull()\n",
    "    & data[\"clinical\", \"sample_type\"].isin([\"Normal\", \"Tumour\"])\n",
    "    & data[\"gene_expression\"].notnull().all(axis=1)\n",
    "]"
   ]
  },
  {
   "cell_type": "code",
   "execution_count": null,
   "metadata": {},
   "outputs": [],
   "source": [
    "data = pd.concat([\n",
    "    data.loc[data[\"clinical\", \"sample_type\"] == \"Normal\"],\n",
    "    data.loc[data[\"clinical\", \"sample_type\"] == \"Tumour\"][:669],\n",
    "], axis=0)"
   ]
  },
  {
   "cell_type": "code",
   "execution_count": null,
   "metadata": {},
   "outputs": [],
   "source": []
  },
  {
   "cell_type": "code",
   "execution_count": null,
   "metadata": {},
   "outputs": [],
   "source": [
    "X = data[\"gene_expression\"]\n",
    "y = (data[\"clinical\", \"sample_type\"] == \"Tumour\")\n",
    "g = data[\"clinical\", \"patient\"]"
   ]
  },
  {
   "cell_type": "code",
   "execution_count": null,
   "metadata": {},
   "outputs": [],
   "source": [
    "unique_groups, unique_classes, groups, stratify = pretrain_downstream_split(\n",
    "    X, y, g, pretrain_size=1000, downstream_size=295, groups=g, stratify=y, random_state=0,\n",
    ")"
   ]
  },
  {
   "cell_type": "code",
   "execution_count": null,
   "metadata": {},
   "outputs": [],
   "source": [
    "s = np.zeros((unique_groups, unique_classes), dtype=np.int64)\n",
    "np.add.at(s, (groups, 0 * stratify), 1)\n",
    "s.max()"
   ]
  },
  {
   "cell_type": "code",
   "execution_count": null,
   "metadata": {},
   "outputs": [],
   "source": [
    "s"
   ]
  },
  {
   "cell_type": "code",
   "execution_count": null,
   "metadata": {},
   "outputs": [],
   "source": [
    "s = np.zeros((2, 3), dtype=np.int64)\n",
    "np.add.at(s, ([0, 1, 1, 0], [0, 1, 2, 0]), 1)\n",
    "s"
   ]
  },
  {
   "cell_type": "code",
   "execution_count": null,
   "metadata": {},
   "outputs": [],
   "source": [
    "s.max()"
   ]
  },
  {
   "cell_type": "code",
   "execution_count": null,
   "metadata": {},
   "outputs": [],
   "source": [
    "inverse"
   ]
  },
  {
   "cell_type": "code",
   "execution_count": null,
   "metadata": {},
   "outputs": [],
   "source": [
    "stratify"
   ]
  },
  {
   "cell_type": "code",
   "execution_count": null,
   "metadata": {},
   "outputs": [],
   "source": []
  },
  {
   "cell_type": "code",
   "execution_count": null,
   "metadata": {},
   "outputs": [],
   "source": [
    "X_pretrain, X_downstream, _, y_downstream, g_pretrain, g_downstream = pretrain_downstream_split(\n",
    "    X, y, g, pretrain_size=1000, downstream_size=295, groups=g, stratify=y, random_state=0,\n",
    ")"
   ]
  },
  {
   "cell_type": "code",
   "execution_count": null,
   "metadata": {},
   "outputs": [],
   "source": [
    "set(g_pretrain) & set(g_downstream)"
   ]
  },
  {
   "cell_type": "markdown",
   "metadata": {},
   "source": [
    "## Without pretrained PCA"
   ]
  },
  {
   "cell_type": "code",
   "execution_count": null,
   "metadata": {},
   "outputs": [],
   "source": [
    "cv = GroupKShotsFold(10, k=1, random_state=0)\n",
    "\n",
    "non_zero_variance = VarianceThreshold()\n",
    "\n",
    "scaler = StandardScaler()\n",
    "\n",
    "classifier = LogisticRegression(\n",
    "    solver=\"lbfgs\",\n",
    "    multi_class=\"multinomial\",\n",
    "    max_iter=2000,\n",
    "    tol=1e-2,\n",
    "    class_weight=\"balanced\",\n",
    "    n_jobs=8,\n",
    "    random_state=0,\n",
    ")\n",
    "\n",
    "model = make_pipeline(non_zero_variance, scaler, classifier)\n",
    "\n",
    "y_downstream_score = cross_val_predict(model, X_downstream, y_downstream, groups=g_downstream, cv=cv, method=\"predict_proba\")\n",
    "y_downstream_score = y_downstream_score[:, 1]\n",
    "y_downstream_pred = y_downstream_score > 0.5\n",
    "\n",
    "report = metrics.classification_report(y_downstream, y_downstream_pred, zero_division=np.nan)\n",
    "print(report)\n",
    "print(f\"\\nAccuracy: {100 * metrics.accuracy_score(y_downstream, y_downstream_pred):.2f}%\")\n",
    "print(f\"ROC AUC: {100 * metrics.roc_auc_score(y_downstream, y_downstream_score):.2f}%\")"
   ]
  },
  {
   "cell_type": "markdown",
   "metadata": {},
   "source": [
    "## With pretrained PCA"
   ]
  },
  {
   "cell_type": "code",
   "execution_count": null,
   "metadata": {},
   "outputs": [],
   "source": [
    "non_zero_variance = VarianceThreshold()\n",
    "scaler = StandardScaler()\n",
    "pca = PCA(n_components=1000, random_state=0)\n",
    "\n",
    "encoder = make_pipeline(non_zero_variance, scaler, pca)\n",
    "\n",
    "encoder.fit(X_pretrain)"
   ]
  },
  {
   "cell_type": "code",
   "execution_count": null,
   "metadata": {},
   "outputs": [],
   "source": [
    "cv = GroupKShotsFold(10, k=1, random_state=0)\n",
    "\n",
    "model = LogisticRegression(\n",
    "    solver=\"lbfgs\",\n",
    "    multi_class=\"multinomial\",\n",
    "    max_iter=2000,\n",
    "    tol=1e-2,\n",
    "    class_weight=\"balanced\",\n",
    "    n_jobs=8,\n",
    "    random_state=0,\n",
    ")\n",
    "\n",
    "e_downstream = encoder.transform(X_downstream)\n",
    "y_downstream_score = cross_val_predict(model, e_downstream, y_downstream, groups=g_downstream, cv=cv, method=\"predict_proba\")\n",
    "y_downstream_score = y_downstream_score[:, 1]\n",
    "y_downstream_pred = y_downstream_score > 0.5\n",
    "\n",
    "report = metrics.classification_report(y_downstream, y_downstream_pred, zero_division=np.nan)\n",
    "print(report)\n",
    "print(f\"\\nAccuracy: {100 * metrics.accuracy_score(y_downstream, y_downstream_pred):.2f}%\")\n",
    "print(f\"ROC AUC: {100 * metrics.roc_auc_score(y_downstream, y_downstream_score):.2f}%\")"
   ]
  },
  {
   "cell_type": "code",
   "execution_count": null,
   "metadata": {},
   "outputs": [],
   "source": []
  }
 ],
 "metadata": {
  "kernelspec": {
   "display_name": "venv",
   "language": "python",
   "name": "python3"
  },
  "language_info": {
   "codemirror_mode": {
    "name": "ipython",
    "version": 3
   },
   "file_extension": ".py",
   "mimetype": "text/x-python",
   "name": "python",
   "nbconvert_exporter": "python",
   "pygments_lexer": "ipython3",
   "version": "3.10.12"
  }
 },
 "nbformat": 4,
 "nbformat_minor": 2
}
