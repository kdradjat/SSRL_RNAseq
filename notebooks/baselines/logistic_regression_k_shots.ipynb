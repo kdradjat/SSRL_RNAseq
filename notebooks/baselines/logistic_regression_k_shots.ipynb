{
 "cells": [
  {
   "cell_type": "code",
   "execution_count": 1,
   "metadata": {},
   "outputs": [],
   "source": [
    "import numpy as np\n",
    "from sklearn.feature_selection import VarianceThreshold\n",
    "from sklearn.linear_model import LogisticRegression\n",
    "from sklearn.model_selection import cross_val_predict\n",
    "from sklearn.pipeline import make_pipeline\n",
    "from sklearn.preprocessing import StandardScaler\n",
    "from sklearn import metrics\n",
    "\n",
    "from ssrl_rnaseq.split import GroupKShotsFold\n",
    "from ssrl_rnaseq.data import load_tcga"
   ]
  },
  {
   "cell_type": "code",
   "execution_count": 2,
   "metadata": {},
   "outputs": [],
   "source": [
    "data = load_tcga(\"../../data/label.parquet\", \"../../data/mRNA.omics.parquet\")\n",
    "\n",
    "data = data.loc[\n",
    "    data[\"clinical\", \"patient\"].notnull()\n",
    "    & data[\"clinical\", \"cancer_type\"].notnull()\n",
    "    & data[\"gene_expression\"].notnull().all(axis=1)\n",
    "    & (data[\"clinical\", \"cancer_type\"] != \"Normal\")\n",
    "    & (data[\"clinical\", \"sample_type\"] == \"Tumour\")\n",
    "]"
   ]
  },
  {
   "cell_type": "code",
   "execution_count": 3,
   "metadata": {},
   "outputs": [],
   "source": [
    "X = data[\"gene_expression\"]\n",
    "y = data[\"clinical\", \"cancer_type\"]\n",
    "g = data[\"clinical\", \"patient\"]"
   ]
  },
  {
   "cell_type": "code",
   "execution_count": 4,
   "metadata": {},
   "outputs": [
    {
     "name": "stdout",
     "output_type": "stream",
     "text": [
      "              precision    recall  f1-score   support\n",
      "\n",
      "   TCGA-BLCA       0.65      0.39      0.49       406\n",
      "   TCGA-BRCA       0.87      0.57      0.69      1101\n",
      "   TCGA-CESC       0.37      0.39      0.38       306\n",
      "   TCGA-COAD       0.78      0.82      0.80       460\n",
      "   TCGA-HNSC       0.61      0.56      0.58       522\n",
      "   TCGA-KIRC       0.69      0.66      0.67       534\n",
      "   TCGA-KIRP       0.58      0.59      0.58       291\n",
      "    TCGA-LGG       0.82      0.99      0.90       534\n",
      "   TCGA-LIHC       0.77      0.91      0.83       374\n",
      "   TCGA-LUAD       0.63      0.49      0.55       518\n",
      "   TCGA-LUSC       0.47      0.47      0.47       501\n",
      "     TCGA-OV       0.51      0.84      0.63       429\n",
      "   TCGA-PRAD       0.80      0.94      0.86       498\n",
      "   TCGA-SARC       0.41      0.33      0.36       263\n",
      "   TCGA-SKCM       0.76      0.68      0.71       472\n",
      "   TCGA-STAD       0.37      0.86      0.52       412\n",
      "   TCGA-THCA       0.93      0.94      0.93       513\n",
      "   TCGA-UCEC       0.67      0.29      0.40       546\n",
      "\n",
      "    accuracy                           0.65      8680\n",
      "   macro avg       0.65      0.65      0.63      8680\n",
      "weighted avg       0.68      0.65      0.65      8680\n",
      "\n",
      "\n",
      "Accuracy: 65.40%\n"
     ]
    }
   ],
   "source": [
    "cv = GroupKShotsFold(10, k=1, random_state=0)\n",
    "\n",
    "non_zero_variance = VarianceThreshold()\n",
    "\n",
    "scaler = StandardScaler()\n",
    "\n",
    "classifier = LogisticRegression(\n",
    "    solver=\"lbfgs\",\n",
    "    multi_class=\"multinomial\",\n",
    "    max_iter=2000,\n",
    "    tol=1e-2,\n",
    "    class_weight=\"balanced\",\n",
    "    n_jobs=8,\n",
    "    random_state=0,\n",
    ")\n",
    "\n",
    "model = make_pipeline(non_zero_variance, scaler, classifier)\n",
    "\n",
    "y_pred = cross_val_predict(model, X, y, groups=g, cv=cv)\n",
    "\n",
    "report = metrics.classification_report(y, y_pred, zero_division=np.nan)\n",
    "print(report)\n",
    "print(f\"\\nAccuracy: {100 * metrics.accuracy_score(y, y_pred):.2f}%\")"
   ]
  },
  {
   "cell_type": "code",
   "execution_count": null,
   "metadata": {},
   "outputs": [],
   "source": []
  }
 ],
 "metadata": {
  "kernelspec": {
   "display_name": "venv",
   "language": "python",
   "name": "python3"
  },
  "language_info": {
   "codemirror_mode": {
    "name": "ipython",
    "version": 3
   },
   "file_extension": ".py",
   "mimetype": "text/x-python",
   "name": "python",
   "nbconvert_exporter": "python",
   "pygments_lexer": "ipython3",
   "version": "3.10.12"
  }
 },
 "nbformat": 4,
 "nbformat_minor": 2
}
