{
 "cells": [
  {
   "cell_type": "code",
   "execution_count": 1,
   "metadata": {},
   "outputs": [],
   "source": [
    "import pandas as pd\n",
    "from sklearn.feature_selection import VarianceThreshold, SelectKBest, f_classif\n",
    "from sklearn.linear_model import LogisticRegression\n",
    "from sklearn.model_selection import train_test_split\n",
    "from sklearn.pipeline import make_pipeline\n",
    "from sklearn.preprocessing import StandardScaler\n",
    "from sklearn import metrics"
   ]
  },
  {
   "cell_type": "code",
   "execution_count": 2,
   "metadata": {},
   "outputs": [],
   "source": [
    "def load(clinical_path, gene_expression_path):\n",
    "    clinical = pd.read_parquet(clinical_path)\n",
    "    gene_expression = pd.read_parquet(gene_expression_path)\n",
    "    \n",
    "    clinical.set_index(\"sampleID\", inplace=True)\n",
    "    gene_expression.set_index(\"caseID\", inplace=True)\n",
    "    \n",
    "    gene_expression.index = gene_expression.index.str.split(\"-\").str[:4].str.join(\"-\")\n",
    "\n",
    "    if not clinical.index.is_unique:\n",
    "        raise ValueError\n",
    "    \n",
    "    if not gene_expression.index.is_unique:\n",
    "        raise ValueError\n",
    "\n",
    "    common_case = clinical.index.intersection(gene_expression.index)\n",
    "\n",
    "    clinical = clinical.loc[common_case]\n",
    "    gene_expression = gene_expression.loc[common_case]\n",
    "\n",
    "    data = pd.concat({\"clinical\": clinical, \"gene_expression\": gene_expression}, axis=1)\n",
    "    data.index.name = \"caseID\"\n",
    "\n",
    "    return data"
   ]
  },
  {
   "cell_type": "code",
   "execution_count": 3,
   "metadata": {},
   "outputs": [],
   "source": [
    "data = load(\"../data/label.parquet\", \"../data/mRNA.omics.parquet\")\n",
    "\n",
    "data = data.loc[\n",
    "    data[\"clinical\", \"patient\"].notnull()\n",
    "    & data[\"clinical\", \"cancer_type\"].notnull()\n",
    "    & data[\"gene_expression\"].notnull().all(axis=1)\n",
    "    & (data[\"clinical\", \"cancer_type\"] != \"Normal\")\n",
    "    & (data[\"clinical\", \"sample_type\"] == \"Tumour\")\n",
    "]"
   ]
  },
  {
   "cell_type": "code",
   "execution_count": 4,
   "metadata": {},
   "outputs": [],
   "source": [
    "X = data[\"gene_expression\"]\n",
    "y = data[\"clinical\", \"cancer_type\"]\n",
    "g = data[\"clinical\", \"patient\"]"
   ]
  },
  {
   "cell_type": "code",
   "execution_count": 5,
   "metadata": {},
   "outputs": [],
   "source": [
    "X_train, X_test, y_train, y_test = train_test_split(  # TODO use groups\n",
    "    X, y, train_size=930, test_size=1000, stratify=y, shuffle=True, random_state=0,\n",
    ")"
   ]
  },
  {
   "cell_type": "code",
   "execution_count": 8,
   "metadata": {},
   "outputs": [
    {
     "name": "stdout",
     "output_type": "stream",
     "text": [
      "              precision    recall  f1-score   support\n",
      "\n",
      "   TCGA-BLCA       0.86      0.91      0.89        47\n",
      "   TCGA-BRCA       1.00      0.94      0.97       127\n",
      "   TCGA-CESC       0.88      0.80      0.84        35\n",
      "   TCGA-COAD       1.00      0.98      0.99        53\n",
      "   TCGA-HNSC       0.84      0.97      0.90        60\n",
      "   TCGA-KIRC       0.95      0.97      0.96        62\n",
      "   TCGA-KIRP       0.97      0.88      0.92        34\n",
      "    TCGA-LGG       0.95      1.00      0.98        62\n",
      "   TCGA-LIHC       0.96      1.00      0.98        43\n",
      "   TCGA-LUAD       0.87      0.92      0.89        60\n",
      "   TCGA-LUSC       0.96      0.79      0.87        58\n",
      "     TCGA-OV       0.96      1.00      0.98        49\n",
      "   TCGA-PRAD       0.98      1.00      0.99        57\n",
      "   TCGA-SARC       0.82      0.93      0.88        30\n",
      "   TCGA-SKCM       1.00      0.98      0.99        54\n",
      "   TCGA-STAD       0.96      1.00      0.98        47\n",
      "   TCGA-THCA       1.00      1.00      1.00        59\n",
      "   TCGA-UCEC       0.98      0.92      0.95        63\n",
      "\n",
      "    accuracy                           0.95      1000\n",
      "   macro avg       0.94      0.94      0.94      1000\n",
      "weighted avg       0.95      0.95      0.95      1000\n",
      "\n",
      "\n",
      "Accuracy: 0.947\n"
     ]
    }
   ],
   "source": [
    "non_zero_variance = VarianceThreshold()\n",
    "\n",
    "select_k_best = SelectKBest(f_classif, k=50000)\n",
    "\n",
    "scaler = StandardScaler()\n",
    "\n",
    "classifier = LogisticRegression(\n",
    "    solver=\"lbfgs\",\n",
    "    multi_class=\"multinomial\",\n",
    "    max_iter=2000,\n",
    "    tol=1e-2,\n",
    "    class_weight=\"balanced\",\n",
    "    n_jobs=8,\n",
    "    random_state=0,\n",
    ")\n",
    "\n",
    "model = make_pipeline(non_zero_variance, select_k_best, scaler, classifier)\n",
    "\n",
    "model.fit(X_train, y_train)\n",
    "\n",
    "y_test_pred = model.predict(X_test)\n",
    "\n",
    "report = metrics.classification_report(y_test, y_test_pred)\n",
    "print(report)\n",
    "print(f\"\\nAccuracy: {metrics.accuracy_score(y_test, y_test_pred)}\")"
   ]
  },
  {
   "cell_type": "code",
   "execution_count": null,
   "metadata": {},
   "outputs": [],
   "source": []
  }
 ],
 "metadata": {
  "kernelspec": {
   "display_name": "venv",
   "language": "python",
   "name": "python3"
  },
  "language_info": {
   "codemirror_mode": {
    "name": "ipython",
    "version": 3
   },
   "file_extension": ".py",
   "mimetype": "text/x-python",
   "name": "python",
   "nbconvert_exporter": "python",
   "pygments_lexer": "ipython3",
   "version": "3.10.12"
  }
 },
 "nbformat": 4,
 "nbformat_minor": 2
}
