{
 "cells": [
  {
   "cell_type": "code",
   "execution_count": 1,
   "metadata": {},
   "outputs": [],
   "source": [
    "from sklearn.feature_selection import VarianceThreshold, SelectKBest, f_classif\n",
    "from sklearn.linear_model import LogisticRegression\n",
    "from sklearn.pipeline import make_pipeline\n",
    "from sklearn.preprocessing import StandardScaler\n",
    "from sklearn import metrics\n",
    "\n",
    "from ssrl_rnaseq.split import pretrain_downstream_split\n",
    "from ssrl_rnaseq.data import load_tcga"
   ]
  },
  {
   "cell_type": "code",
   "execution_count": 2,
   "metadata": {},
   "outputs": [],
   "source": [
    "data = load_tcga(\"../../data/label.parquet\", \"../../data/mRNA.omics.parquet\")\n",
    "\n",
    "data = data.loc[\n",
    "    data[\"clinical\", \"patient\"].notnull()\n",
    "    & data[\"clinical\", \"cancer_type\"].notnull()\n",
    "    & data[\"gene_expression\"].notnull().all(axis=1)\n",
    "    & (data[\"clinical\", \"cancer_type\"] != \"Normal\")\n",
    "    & (data[\"clinical\", \"sample_type\"] == \"Tumour\")\n",
    "]"
   ]
  },
  {
   "cell_type": "code",
   "execution_count": 3,
   "metadata": {},
   "outputs": [],
   "source": [
    "X = data[\"gene_expression\"]\n",
    "y = data[\"clinical\", \"cancer_type\"]\n",
    "g = data[\"clinical\", \"patient\"]"
   ]
  },
  {
   "cell_type": "code",
   "execution_count": 5,
   "metadata": {},
   "outputs": [],
   "source": [
    "X_train, X_test, y_train, y_test = pretrain_downstream_split(\n",
    "    X, y, pretrain_size=930, downstream_size=900, groups=g, stratify=y, random_state=0,\n",
    ")"
   ]
  },
  {
   "cell_type": "code",
   "execution_count": 6,
   "metadata": {},
   "outputs": [
    {
     "name": "stdout",
     "output_type": "stream",
     "text": [
      "              precision    recall  f1-score   support\n",
      "\n",
      "   TCGA-BLCA       0.87      0.85      0.86        46\n",
      "   TCGA-BRCA       0.99      0.96      0.97       113\n",
      "   TCGA-CESC       0.86      0.86      0.86        29\n",
      "   TCGA-COAD       0.98      0.96      0.97        53\n",
      "   TCGA-HNSC       0.89      0.91      0.90        55\n",
      "   TCGA-KIRC       0.94      0.91      0.93        55\n",
      "   TCGA-KIRP       0.91      0.91      0.91        32\n",
      "    TCGA-LGG       0.96      1.00      0.98        51\n",
      "   TCGA-LIHC       0.91      0.98      0.94        42\n",
      "   TCGA-LUAD       0.96      0.92      0.94        50\n",
      "   TCGA-LUSC       0.88      0.87      0.88        53\n",
      "     TCGA-OV       0.94      1.00      0.97        48\n",
      "   TCGA-PRAD       0.98      1.00      0.99        47\n",
      "   TCGA-SARC       0.96      0.92      0.94        26\n",
      "   TCGA-SKCM       0.96      0.90      0.93        50\n",
      "   TCGA-STAD       0.95      1.00      0.98        41\n",
      "   TCGA-THCA       1.00      1.00      1.00        51\n",
      "   TCGA-UCEC       0.90      0.95      0.92        58\n",
      "\n",
      "    accuracy                           0.94       900\n",
      "   macro avg       0.94      0.94      0.94       900\n",
      "weighted avg       0.94      0.94      0.94       900\n",
      "\n",
      "\n",
      "Accuracy: 0.9411111111111111\n"
     ]
    }
   ],
   "source": [
    "non_zero_variance = VarianceThreshold()\n",
    "\n",
    "select_k_best = SelectKBest(f_classif, k=50000)\n",
    "\n",
    "scaler = StandardScaler()\n",
    "\n",
    "classifier = LogisticRegression(\n",
    "    solver=\"lbfgs\",\n",
    "    multi_class=\"multinomial\",\n",
    "    max_iter=2000,\n",
    "    tol=1e-2,\n",
    "    class_weight=\"balanced\",\n",
    "    n_jobs=8,\n",
    "    random_state=0,\n",
    ")\n",
    "\n",
    "model = make_pipeline(non_zero_variance, select_k_best, scaler, classifier)\n",
    "\n",
    "model.fit(X_train, y_train)\n",
    "\n",
    "y_test_pred = model.predict(X_test)\n",
    "\n",
    "report = metrics.classification_report(y_test, y_test_pred)\n",
    "print(report)\n",
    "print(f\"\\nAccuracy: {metrics.accuracy_score(y_test, y_test_pred)}\")"
   ]
  },
  {
   "cell_type": "code",
   "execution_count": null,
   "metadata": {},
   "outputs": [],
   "source": []
  }
 ],
 "metadata": {
  "kernelspec": {
   "display_name": "venv",
   "language": "python",
   "name": "python3"
  },
  "language_info": {
   "codemirror_mode": {
    "name": "ipython",
    "version": 3
   },
   "file_extension": ".py",
   "mimetype": "text/x-python",
   "name": "python",
   "nbconvert_exporter": "python",
   "pygments_lexer": "ipython3",
   "version": "3.10.12"
  }
 },
 "nbformat": 4,
 "nbformat_minor": 2
}
