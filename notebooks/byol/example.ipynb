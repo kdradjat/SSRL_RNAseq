{
 "cells": [
  {
   "cell_type": "code",
   "execution_count": 1,
   "id": "a516ec3d",
   "metadata": {},
   "outputs": [],
   "source": [
    "import torch\n",
    "from byol_pytorch.byol import BYOL\n",
    "from byol_pytorch.NN import Encoder\n",
    "from torchvision import models"
   ]
  },
  {
   "cell_type": "code",
   "execution_count": 2,
   "id": "76ab6551",
   "metadata": {},
   "outputs": [],
   "source": [
    "import sys\n",
    "sys.path.append('../pytorch-scarf')\n",
    "from cancerclassification.data import *\n",
    "from cancerclassification.NN import *"
   ]
  },
  {
   "cell_type": "markdown",
   "id": "2d730df7",
   "metadata": {},
   "source": [
    "# Load Data"
   ]
  },
  {
   "cell_type": "code",
   "execution_count": null,
   "id": "269ea168",
   "metadata": {},
   "outputs": [],
   "source": [
    "#x_unlabel = read_process_data_TCGA_unlabel('../nn_baseline/data/pretrain_data.parquet')"
   ]
  },
  {
   "cell_type": "code",
   "execution_count": 3,
   "id": "3ebc4715",
   "metadata": {},
   "outputs": [
    {
     "name": "stdout",
     "output_type": "stream",
     "text": [
      "(100, 56902)\n"
     ]
    }
   ],
   "source": [
    "x_unlabel = np.random.rand(100, 56902)\n",
    "print(x_unlabel.shape)"
   ]
  },
  {
   "cell_type": "code",
   "execution_count": 4,
   "id": "c10b426e",
   "metadata": {},
   "outputs": [
    {
     "name": "stdout",
     "output_type": "stream",
     "text": [
      "(100, 1)\n"
     ]
    }
   ],
   "source": [
    "y_unlabel = np.random.rand(100, 1)\n",
    "print(y_unlabel.shape)"
   ]
  },
  {
   "cell_type": "code",
   "execution_count": 5,
   "id": "a6d98738",
   "metadata": {},
   "outputs": [
    {
     "name": "stdout",
     "output_type": "stream",
     "text": [
      "cuda\n"
     ]
    }
   ],
   "source": [
    "device = torch.device('cuda' if torch.cuda.is_available() else 'cpu')\n",
    "print(device)"
   ]
  },
  {
   "cell_type": "markdown",
   "id": "838fa7e1",
   "metadata": {},
   "source": [
    "# Define MLP"
   ]
  },
  {
   "cell_type": "code",
   "execution_count": 6,
   "id": "3da8511d-5242-41e4-a0f6-56f679561e7f",
   "metadata": {},
   "outputs": [
    {
     "data": {
      "text/plain": [
       "100"
      ]
     },
     "execution_count": 6,
     "metadata": {},
     "output_type": "execute_result"
    }
   ],
   "source": [
    "nb_classes = len(np.unique(y_unlabel))\n",
    "nb_classes"
   ]
  },
  {
   "cell_type": "code",
   "execution_count": 7,
   "id": "2420ce79",
   "metadata": {},
   "outputs": [],
   "source": [
    "config_nn = {\n",
    "            \"epochs\":100,\n",
    "            \"lr_init\":4e-4,\n",
    "            \"early_stop\":5,\n",
    "            \"optim\":optim.Adam,\n",
    "            \"bn\":True,\n",
    "            \"dropout_rate\":0.0\n",
    "        }\n",
    "\n",
    "nb_classes = len(np.unique(y_unlabel))\n",
    "\n",
    "encoder = Encoder(input_dim=x_unlabel.shape[1], output_dim=64, dropout_rate=0.0).to(device)"
   ]
  },
  {
   "cell_type": "code",
   "execution_count": 8,
   "id": "feab48df",
   "metadata": {},
   "outputs": [
    {
     "name": "stdout",
     "output_type": "stream",
     "text": [
      "torch.Size([4, 56902])\n",
      "call get_target_encoder\n"
     ]
    },
    {
     "name": "stderr",
     "output_type": "stream",
     "text": [
      "/shared/ifbstor1/projects/ssrl_tabular/BYOL/byol_pytorch/NN.py:54: UserWarning: Implicit dimension choice for softmax has been deprecated. Change the call to include dim=X as an argument.\n",
      "  x = F.softmax(x)\n"
     ]
    }
   ],
   "source": [
    "learner = BYOL(\n",
    "    encoder,\n",
    "    num_features = x_unlabel.shape[1],\n",
    "    hidden_layer = 2\n",
    ")"
   ]
  },
  {
   "cell_type": "code",
   "execution_count": 9,
   "id": "f744adaa",
   "metadata": {},
   "outputs": [
    {
     "data": {
      "text/plain": [
       "(100, 56902)"
      ]
     },
     "execution_count": 9,
     "metadata": {},
     "output_type": "execute_result"
    }
   ],
   "source": [
    "x_unlabel.shape"
   ]
  },
  {
   "cell_type": "code",
   "execution_count": 10,
   "id": "de56ad48",
   "metadata": {},
   "outputs": [
    {
     "data": {
      "text/plain": [
       "byol_pytorch.byol.BYOL"
      ]
     },
     "execution_count": 10,
     "metadata": {},
     "output_type": "execute_result"
    }
   ],
   "source": [
    "BYOL"
   ]
  },
  {
   "cell_type": "code",
   "execution_count": 11,
   "id": "5e1d994d",
   "metadata": {},
   "outputs": [],
   "source": [
    "dataset = CancerDatasetTCGA(x_unlabel, y_unlabel, device=device)\n",
    "dataloader = torch.utils.data.DataLoader(dataset, batch_size = 32, shuffle=False)"
   ]
  },
  {
   "cell_type": "code",
   "execution_count": 13,
   "id": "96b2b77e",
   "metadata": {},
   "outputs": [
    {
     "name": "stdout",
     "output_type": "stream",
     "text": [
      "0\n",
      "Parameter containing:\n",
      "tensor([[ 0.0018,  0.0036,  0.0010,  ...,  0.0036,  0.0032,  0.0030],\n",
      "        [-0.0022, -0.0009,  0.0015,  ...,  0.0027, -0.0036, -0.0039],\n",
      "        [ 0.0036,  0.0008,  0.0033,  ..., -0.0033, -0.0026,  0.0028],\n",
      "        ...,\n",
      "        [-0.0039,  0.0034, -0.0015,  ...,  0.0004, -0.0008,  0.0039],\n",
      "        [ 0.0008,  0.0027,  0.0015,  ...,  0.0011, -0.0041, -0.0009],\n",
      "        [ 0.0008,  0.0003, -0.0037,  ...,  0.0002,  0.0040,  0.0034]],\n",
      "       device='cuda:0', requires_grad=True)\n",
      "torch.Size([64, 56902])\n",
      "tensor(4.0271, device='cuda:0', requires_grad=True)\n",
      "torch.Size([64, 56902])\n",
      "tensor(4.0490, device='cuda:0', requires_grad=True)\n",
      "torch.Size([64, 56902])\n",
      "tensor(4.0357, device='cuda:0', requires_grad=True)\n",
      "torch.Size([8, 56902])\n",
      "tensor(3.9698, device='cuda:0', requires_grad=True)\n",
      "Parameter containing:\n",
      "tensor([[ 0.0018,  0.0036,  0.0010,  ...,  0.0036,  0.0032,  0.0030],\n",
      "        [-0.0022, -0.0009,  0.0015,  ...,  0.0027, -0.0036, -0.0039],\n",
      "        [ 0.0036,  0.0008,  0.0033,  ..., -0.0033, -0.0026,  0.0028],\n",
      "        ...,\n",
      "        [-0.0039,  0.0034, -0.0015,  ...,  0.0004, -0.0008,  0.0039],\n",
      "        [ 0.0008,  0.0027,  0.0015,  ...,  0.0011, -0.0041, -0.0009],\n",
      "        [ 0.0008,  0.0003, -0.0037,  ...,  0.0002,  0.0040,  0.0034]],\n",
      "       device='cuda:0', requires_grad=True)\n",
      "1\n",
      "Parameter containing:\n",
      "tensor([[ 0.0018,  0.0036,  0.0010,  ...,  0.0036,  0.0032,  0.0030],\n",
      "        [-0.0022, -0.0009,  0.0015,  ...,  0.0027, -0.0036, -0.0039],\n",
      "        [ 0.0036,  0.0008,  0.0033,  ..., -0.0033, -0.0026,  0.0028],\n",
      "        ...,\n",
      "        [-0.0039,  0.0034, -0.0015,  ...,  0.0004, -0.0008,  0.0039],\n",
      "        [ 0.0008,  0.0027,  0.0015,  ...,  0.0011, -0.0041, -0.0009],\n",
      "        [ 0.0008,  0.0003, -0.0037,  ...,  0.0002,  0.0040,  0.0034]],\n",
      "       device='cuda:0', requires_grad=True)\n",
      "torch.Size([64, 56902])\n",
      "tensor(4.0609, device='cuda:0', requires_grad=True)\n",
      "torch.Size([64, 56902])\n",
      "tensor(4.0985, device='cuda:0', requires_grad=True)\n",
      "torch.Size([64, 56902])\n",
      "tensor(4.0742, device='cuda:0', requires_grad=True)\n",
      "torch.Size([8, 56902])\n",
      "tensor(4.0475, device='cuda:0', requires_grad=True)\n",
      "Parameter containing:\n",
      "tensor([[ 0.0018,  0.0036,  0.0010,  ...,  0.0036,  0.0032,  0.0030],\n",
      "        [-0.0022, -0.0009,  0.0015,  ...,  0.0027, -0.0036, -0.0039],\n",
      "        [ 0.0036,  0.0008,  0.0033,  ..., -0.0033, -0.0026,  0.0028],\n",
      "        ...,\n",
      "        [-0.0039,  0.0034, -0.0015,  ...,  0.0004, -0.0008,  0.0039],\n",
      "        [ 0.0008,  0.0027,  0.0015,  ...,  0.0011, -0.0041, -0.0009],\n",
      "        [ 0.0008,  0.0003, -0.0037,  ...,  0.0002,  0.0040,  0.0034]],\n",
      "       device='cuda:0', requires_grad=True)\n",
      "2\n",
      "Parameter containing:\n",
      "tensor([[ 0.0018,  0.0036,  0.0010,  ...,  0.0036,  0.0032,  0.0030],\n",
      "        [-0.0022, -0.0009,  0.0015,  ...,  0.0027, -0.0036, -0.0039],\n",
      "        [ 0.0036,  0.0008,  0.0033,  ..., -0.0033, -0.0026,  0.0028],\n",
      "        ...,\n",
      "        [-0.0039,  0.0034, -0.0015,  ...,  0.0004, -0.0008,  0.0039],\n",
      "        [ 0.0008,  0.0027,  0.0015,  ...,  0.0011, -0.0041, -0.0009],\n",
      "        [ 0.0008,  0.0003, -0.0037,  ...,  0.0002,  0.0040,  0.0034]],\n",
      "       device='cuda:0', requires_grad=True)\n"
     ]
    },
    {
     "ename": "KeyboardInterrupt",
     "evalue": "",
     "output_type": "error",
     "traceback": [
      "\u001b[0;31m---------------------------------------------------------------------------\u001b[0m",
      "\u001b[0;31mKeyboardInterrupt\u001b[0m                         Traceback (most recent call last)",
      "\u001b[0;32m/tmp/ipykernel_58359/2909769138.py\u001b[0m in \u001b[0;36m<module>\u001b[0;34m\u001b[0m\n\u001b[1;32m      6\u001b[0m     \u001b[0;32mfor\u001b[0m \u001b[0mbatch\u001b[0m \u001b[0;32min\u001b[0m \u001b[0mdataloader\u001b[0m \u001b[0;34m:\u001b[0m\u001b[0;34m\u001b[0m\u001b[0;34m\u001b[0m\u001b[0m\n\u001b[1;32m      7\u001b[0m         \u001b[0mx\u001b[0m\u001b[0;34m,\u001b[0m \u001b[0m_\u001b[0m \u001b[0;34m=\u001b[0m \u001b[0mbatch\u001b[0m\u001b[0;34m\u001b[0m\u001b[0;34m\u001b[0m\u001b[0m\n\u001b[0;32m----> 8\u001b[0;31m         \u001b[0mloss\u001b[0m \u001b[0;34m=\u001b[0m \u001b[0mlearner\u001b[0m\u001b[0;34m(\u001b[0m\u001b[0mx\u001b[0m\u001b[0;34m)\u001b[0m\u001b[0;34m\u001b[0m\u001b[0;34m\u001b[0m\u001b[0m\n\u001b[0m\u001b[1;32m      9\u001b[0m         \u001b[0mloss\u001b[0m\u001b[0;34m.\u001b[0m\u001b[0mrequires_grad_\u001b[0m\u001b[0;34m(\u001b[0m\u001b[0;34m)\u001b[0m\u001b[0;34m\u001b[0m\u001b[0;34m\u001b[0m\u001b[0m\n\u001b[1;32m     10\u001b[0m         \u001b[0mopt\u001b[0m\u001b[0;34m.\u001b[0m\u001b[0mzero_grad\u001b[0m\u001b[0;34m(\u001b[0m\u001b[0;34m)\u001b[0m\u001b[0;34m\u001b[0m\u001b[0;34m\u001b[0m\u001b[0m\n",
      "\u001b[0;32m/shared/software/miniconda/envs/python-pytorch-tensorflow-3.7-1.11.0-2.6.0/lib/python3.7/site-packages/torch/nn/modules/module.py\u001b[0m in \u001b[0;36m_call_impl\u001b[0;34m(self, *input, **kwargs)\u001b[0m\n\u001b[1;32m   1108\u001b[0m         if not (self._backward_hooks or self._forward_hooks or self._forward_pre_hooks or _global_backward_hooks\n\u001b[1;32m   1109\u001b[0m                 or _global_forward_hooks or _global_forward_pre_hooks):\n\u001b[0;32m-> 1110\u001b[0;31m             \u001b[0;32mreturn\u001b[0m \u001b[0mforward_call\u001b[0m\u001b[0;34m(\u001b[0m\u001b[0;34m*\u001b[0m\u001b[0minput\u001b[0m\u001b[0;34m,\u001b[0m \u001b[0;34m**\u001b[0m\u001b[0mkwargs\u001b[0m\u001b[0;34m)\u001b[0m\u001b[0;34m\u001b[0m\u001b[0;34m\u001b[0m\u001b[0m\n\u001b[0m\u001b[1;32m   1111\u001b[0m         \u001b[0;31m# Do not call functions when jit is used\u001b[0m\u001b[0;34m\u001b[0m\u001b[0;34m\u001b[0m\u001b[0;34m\u001b[0m\u001b[0m\n\u001b[1;32m   1112\u001b[0m         \u001b[0mfull_backward_hooks\u001b[0m\u001b[0;34m,\u001b[0m \u001b[0mnon_full_backward_hooks\u001b[0m \u001b[0;34m=\u001b[0m \u001b[0;34m[\u001b[0m\u001b[0;34m]\u001b[0m\u001b[0;34m,\u001b[0m \u001b[0;34m[\u001b[0m\u001b[0;34m]\u001b[0m\u001b[0;34m\u001b[0m\u001b[0;34m\u001b[0m\u001b[0m\n",
      "\u001b[0;32m/shared/ifbstor1/projects/ssrl_tabular/BYOL/byol_pytorch/byol.py\u001b[0m in \u001b[0;36mforward\u001b[0;34m(self, x, return_embedding, return_projection)\u001b[0m\n\u001b[1;32m    206\u001b[0m         \u001b[0;31m# Generate corrupted samples\u001b[0m\u001b[0;34m\u001b[0m\u001b[0;34m\u001b[0m\u001b[0;34m\u001b[0m\u001b[0m\n\u001b[1;32m    207\u001b[0m         \u001b[0mm\u001b[0m \u001b[0;34m=\u001b[0m \u001b[0mmask_generator\u001b[0m\u001b[0;34m(\u001b[0m\u001b[0;36m0.3\u001b[0m\u001b[0;34m,\u001b[0m \u001b[0mx\u001b[0m\u001b[0;34m)\u001b[0m\u001b[0;34m\u001b[0m\u001b[0;34m\u001b[0m\u001b[0m\n\u001b[0;32m--> 208\u001b[0;31m         \u001b[0mx_tilde\u001b[0m \u001b[0;34m=\u001b[0m \u001b[0mpretext_generator\u001b[0m\u001b[0;34m(\u001b[0m\u001b[0mm\u001b[0m\u001b[0;34m,\u001b[0m \u001b[0mx\u001b[0m\u001b[0;34m)\u001b[0m\u001b[0;34m\u001b[0m\u001b[0;34m\u001b[0m\u001b[0m\n\u001b[0m\u001b[1;32m    209\u001b[0m         \u001b[0;31m#x_tilde.to(self.device)\u001b[0m\u001b[0;34m\u001b[0m\u001b[0;34m\u001b[0m\u001b[0;34m\u001b[0m\u001b[0m\n\u001b[1;32m    210\u001b[0m         \u001b[0msample_one\u001b[0m\u001b[0;34m,\u001b[0m \u001b[0msample_two\u001b[0m \u001b[0;34m=\u001b[0m \u001b[0mx\u001b[0m\u001b[0;34m,\u001b[0m \u001b[0mx_tilde\u001b[0m\u001b[0;34m\u001b[0m\u001b[0;34m\u001b[0m\u001b[0m\n",
      "\u001b[0;32m/shared/ifbstor1/projects/ssrl_tabular/BYOL/byol_pytorch/byol.py\u001b[0m in \u001b[0;36mpretext_generator\u001b[0;34m(m, x)\u001b[0m\n\u001b[1;32m    270\u001b[0m     \u001b[0;32mfor\u001b[0m \u001b[0mi\u001b[0m \u001b[0;32min\u001b[0m \u001b[0mrange\u001b[0m\u001b[0;34m(\u001b[0m\u001b[0mdim\u001b[0m\u001b[0;34m)\u001b[0m\u001b[0;34m:\u001b[0m\u001b[0;34m\u001b[0m\u001b[0;34m\u001b[0m\u001b[0m\n\u001b[1;32m    271\u001b[0m         \u001b[0midx\u001b[0m \u001b[0;34m=\u001b[0m \u001b[0mnp\u001b[0m\u001b[0;34m.\u001b[0m\u001b[0mrandom\u001b[0m\u001b[0;34m.\u001b[0m\u001b[0mpermutation\u001b[0m\u001b[0;34m(\u001b[0m\u001b[0mno\u001b[0m\u001b[0;34m)\u001b[0m\u001b[0;34m\u001b[0m\u001b[0;34m\u001b[0m\u001b[0m\n\u001b[0;32m--> 272\u001b[0;31m         \u001b[0mx_bar\u001b[0m\u001b[0;34m[\u001b[0m\u001b[0;34m:\u001b[0m\u001b[0;34m,\u001b[0m \u001b[0mi\u001b[0m\u001b[0;34m]\u001b[0m \u001b[0;34m=\u001b[0m \u001b[0mx_copy\u001b[0m\u001b[0;34m[\u001b[0m\u001b[0midx\u001b[0m\u001b[0;34m,\u001b[0m \u001b[0mi\u001b[0m\u001b[0;34m]\u001b[0m\u001b[0;34m\u001b[0m\u001b[0;34m\u001b[0m\u001b[0m\n\u001b[0m\u001b[1;32m    273\u001b[0m \u001b[0;34m\u001b[0m\u001b[0m\n\u001b[1;32m    274\u001b[0m       \u001b[0;31m# gaussian noise vector\u001b[0m\u001b[0;34m\u001b[0m\u001b[0;34m\u001b[0m\u001b[0;34m\u001b[0m\u001b[0m\n",
      "\u001b[0;31mKeyboardInterrupt\u001b[0m: "
     ]
    }
   ],
   "source": [
    "opt = torch.optim.Adam(learner.parameters(), lr=1e-4)\n",
    "\n",
    "for _ in range(10):\n",
    "    print(_)\n",
    "    print(next(learner.online_encoder.parameters()))\n",
    "    for batch in dataloader :\n",
    "        x, _ = batch\n",
    "        loss = learner(x)\n",
    "        loss.requires_grad_()\n",
    "        opt.zero_grad()\n",
    "        loss.backward()\n",
    "        opt.step()\n",
    "        #print(next(learner.target_encoder.parameters()))\n",
    "        print(loss)\n",
    "        learner.update_moving_average()\n",
    "    print(next(learner.online_encoder.parameters()))"
   ]
  },
  {
   "cell_type": "code",
   "execution_count": 15,
   "id": "02e6098d",
   "metadata": {},
   "outputs": [
    {
     "name": "stdout",
     "output_type": "stream",
     "text": [
      "Parameter containing:\n",
      "tensor([[ 9.2365e-05, -1.1765e-03,  2.1687e-03,  ...,  1.6639e-03,\n",
      "         -3.8646e-03,  4.1915e-03],\n",
      "        [-1.7250e-03, -1.0296e-03,  3.6149e-03,  ..., -2.6250e-03,\n",
      "          3.3400e-03, -1.2343e-03],\n",
      "        [ 6.4060e-04,  3.5540e-03,  4.0484e-03,  ...,  1.8135e-03,\n",
      "         -1.8143e-03, -9.8861e-04],\n",
      "        ...,\n",
      "        [-3.9542e-03, -2.8534e-03,  3.7906e-03,  ..., -2.4569e-04,\n",
      "         -1.0572e-03,  1.0169e-03],\n",
      "        [ 3.2922e-03,  3.9904e-03,  3.3629e-03,  ...,  2.2040e-03,\n",
      "         -2.4401e-03,  2.6454e-03],\n",
      "        [ 4.1817e-03, -8.3781e-04,  2.0930e-03,  ...,  3.2132e-03,\n",
      "          3.9236e-03,  3.5589e-03]], device='cuda:0', requires_grad=True)\n"
     ]
    }
   ],
   "source": [
    "print(next(encoder.parameters()))"
   ]
  },
  {
   "cell_type": "code",
   "execution_count": null,
   "id": "7a5bec21",
   "metadata": {},
   "outputs": [],
   "source": []
  }
 ],
 "metadata": {
  "kernelspec": {
   "display_name": "Python 3.7",
   "language": "python",
   "name": "python3"
  },
  "language_info": {
   "codemirror_mode": {
    "name": "ipython",
    "version": 3
   },
   "file_extension": ".py",
   "mimetype": "text/x-python",
   "name": "python",
   "nbconvert_exporter": "python",
   "pygments_lexer": "ipython3",
   "version": "3.7.12"
  }
 },
 "nbformat": 4,
 "nbformat_minor": 5
}
