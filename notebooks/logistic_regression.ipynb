{
 "cells": [
  {
   "cell_type": "code",
   "execution_count": 1,
   "metadata": {},
   "outputs": [],
   "source": [
    "import pandas as pd\n",
    "from sklearn.feature_selection import SelectKBest, f_classif\n",
    "from sklearn.linear_model import LogisticRegression\n",
    "from sklearn.model_selection import StratifiedGroupKFold, cross_val_predict\n",
    "from sklearn.pipeline import make_pipeline\n",
    "from sklearn.preprocessing import StandardScaler\n",
    "from sklearn import metrics"
   ]
  },
  {
   "cell_type": "code",
   "execution_count": 2,
   "metadata": {},
   "outputs": [],
   "source": [
    "def load(clinical_path, gene_expression_path):\n",
    "    clinical = pd.read_parquet(clinical_path)\n",
    "    gene_expression = pd.read_parquet(gene_expression_path)\n",
    "    \n",
    "    clinical.set_index(\"sampleID\", inplace=True)\n",
    "    gene_expression.set_index(\"caseID\", inplace=True)\n",
    "    \n",
    "    gene_expression.index = gene_expression.index.str.split(\"-\").str[:4].str.join(\"-\")\n",
    "\n",
    "    if not clinical.index.is_unique:\n",
    "        raise ValueError\n",
    "    \n",
    "    if not gene_expression.index.is_unique:\n",
    "        raise ValueError\n",
    "\n",
    "    common_case = clinical.index.intersection(gene_expression.index)\n",
    "\n",
    "    clinical = clinical.loc[common_case]\n",
    "    gene_expression = gene_expression.loc[common_case]\n",
    "\n",
    "    data = pd.concat({\"clinical\": clinical, \"gene_expression\": gene_expression}, axis=1)\n",
    "    data.index.name = \"caseID\"\n",
    "\n",
    "    return data"
   ]
  },
  {
   "cell_type": "code",
   "execution_count": 3,
   "metadata": {},
   "outputs": [],
   "source": [
    "data = load(\"../data/label.parquet\", \"../data/mRNA.omics.parquet\")\n",
    "\n",
    "data = data.loc[\n",
    "    data[\"clinical\", \"patient\"].notnull() &\n",
    "    data[\"clinical\", \"cancer_type\"].notnull() &\n",
    "    data[\"gene_expression\"].notnull().all(axis=1) &\n",
    "    (data[\"clinical\", \"cancer_type\"] != \"Normal\")\n",
    "]"
   ]
  },
  {
   "cell_type": "code",
   "execution_count": 4,
   "metadata": {},
   "outputs": [],
   "source": [
    "X = data[\"gene_expression\"]\n",
    "y = data[\"clinical\"][\"cancer_type\"]\n",
    "g = data[\"clinical\"][\"patient\"]"
   ]
  },
  {
   "cell_type": "code",
   "execution_count": 5,
   "metadata": {},
   "outputs": [
    {
     "name": "stdout",
     "output_type": "stream",
     "text": [
      "              precision    recall  f1-score   support\n",
      "\n",
      "   TCGA-BLCA       0.91      0.88      0.89       406\n",
      "   TCGA-BRCA       0.99      0.99      0.99      1101\n",
      "   TCGA-CESC       0.82      0.84      0.83       306\n",
      "   TCGA-COAD       0.98      0.99      0.99       460\n",
      "   TCGA-HNSC       0.86      0.87      0.86       522\n",
      "   TCGA-KIRC       0.98      0.95      0.97       534\n",
      "   TCGA-KIRP       0.94      0.96      0.95       291\n",
      "    TCGA-LGG       1.00      0.99      1.00       534\n",
      "   TCGA-LIHC       0.99      0.99      0.99       374\n",
      "   TCGA-LUAD       0.93      0.94      0.94       518\n",
      "   TCGA-LUSC       0.86      0.85      0.85       501\n",
      "     TCGA-OV       1.00      0.99      1.00       429\n",
      "   TCGA-PRAD       1.00      1.00      1.00       498\n",
      "   TCGA-SARC       0.89      0.97      0.93       263\n",
      "   TCGA-SKCM       0.97      0.97      0.97       472\n",
      "   TCGA-STAD       0.99      1.00      0.99       412\n",
      "   TCGA-THCA       1.00      1.00      1.00       513\n",
      "   TCGA-UCEC       0.97      0.96      0.97       546\n",
      "\n",
      "    accuracy                           0.96      8680\n",
      "   macro avg       0.95      0.95      0.95      8680\n",
      "weighted avg       0.96      0.96      0.96      8680\n",
      "\n"
     ]
    }
   ],
   "source": [
    "cv = StratifiedGroupKFold(5, shuffle=True, random_state=0)\n",
    "\n",
    "select_k_best = SelectKBest(f_classif, k=1000)\n",
    "\n",
    "scaler = StandardScaler()\n",
    "\n",
    "classifier = LogisticRegression(\n",
    "    solver=\"lbfgs\",\n",
    "    multi_class=\"multinomial\",\n",
    "    max_iter=2000,\n",
    "    tol=1e-2,\n",
    "    class_weight=\"balanced\",\n",
    "    n_jobs=8,\n",
    "    random_state=0,\n",
    ")\n",
    "\n",
    "model = make_pipeline(select_k_best, scaler, classifier)\n",
    "\n",
    "y_pred = cross_val_predict(model, X, y, groups=g, cv=cv)\n",
    "\n",
    "report = metrics.classification_report(y, y_pred)\n",
    "print(report)"
   ]
  },
  {
   "cell_type": "code",
   "execution_count": null,
   "metadata": {},
   "outputs": [],
   "source": []
  }
 ],
 "metadata": {
  "kernelspec": {
   "display_name": "venv",
   "language": "python",
   "name": "python3"
  },
  "language_info": {
   "codemirror_mode": {
    "name": "ipython",
    "version": 3
   },
   "file_extension": ".py",
   "mimetype": "text/x-python",
   "name": "python",
   "nbconvert_exporter": "python",
   "pygments_lexer": "ipython3",
   "version": "3.10.12"
  }
 },
 "nbformat": 4,
 "nbformat_minor": 2
}
