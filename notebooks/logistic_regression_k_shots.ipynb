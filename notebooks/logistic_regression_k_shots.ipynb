{
 "cells": [
  {
   "cell_type": "code",
   "execution_count": 1,
   "metadata": {},
   "outputs": [],
   "source": [
    "import numpy as np\n",
    "import pandas as pd\n",
    "from sklearn.feature_selection import VarianceThreshold\n",
    "from sklearn.linear_model import LogisticRegression\n",
    "from sklearn.model_selection import StratifiedGroupKFold, cross_val_predict, train_test_split\n",
    "from sklearn.pipeline import make_pipeline\n",
    "from sklearn.preprocessing import StandardScaler\n",
    "from sklearn import metrics\n",
    "from sklearn.utils import check_X_y"
   ]
  },
  {
   "cell_type": "code",
   "execution_count": 2,
   "metadata": {},
   "outputs": [],
   "source": [
    "def load(clinical_path, gene_expression_path):\n",
    "    clinical = pd.read_parquet(clinical_path)\n",
    "    gene_expression = pd.read_parquet(gene_expression_path)\n",
    "    \n",
    "    clinical.set_index(\"sampleID\", inplace=True)\n",
    "    gene_expression.set_index(\"caseID\", inplace=True)\n",
    "    \n",
    "    gene_expression.index = gene_expression.index.str.split(\"-\").str[:4].str.join(\"-\")\n",
    "\n",
    "    if not clinical.index.is_unique:\n",
    "        raise ValueError\n",
    "\n",
    "    if not gene_expression.index.is_unique:\n",
    "        raise ValueError\n",
    "\n",
    "    common_case = clinical.index.intersection(gene_expression.index)\n",
    "\n",
    "    clinical = clinical.loc[common_case]\n",
    "    gene_expression = gene_expression.loc[common_case]\n",
    "\n",
    "    data = pd.concat({\"clinical\": clinical, \"gene_expression\": gene_expression}, axis=1)\n",
    "    data.index.name = \"caseID\"\n",
    "\n",
    "    return data"
   ]
  },
  {
   "cell_type": "code",
   "execution_count": 3,
   "metadata": {},
   "outputs": [],
   "source": [
    "class GroupKShotsFold:\n",
    "    def __init__(self, n_splits, *, k, random_state=None):\n",
    "        self.n_splits = n_splits\n",
    "        self.k = k\n",
    "        self.random_state = random_state\n",
    "\n",
    "    def get_n_splits(self, X=None, y=None, groups=None):\n",
    "        return self.n_splits\n",
    "\n",
    "    def split(self, X, y, groups):\n",
    "        _, y = check_X_y(X, y)\n",
    "\n",
    "        n_classes = len(np.unique(y))\n",
    "        train_size = self.k * n_classes\n",
    "\n",
    "        cv = StratifiedGroupKFold(n_splits=self.n_splits, shuffle=True, random_state=self.random_state)\n",
    "\n",
    "        for train, test in cv.split(X, y, groups):\n",
    "            train, _ = train_test_split(\n",
    "                train,\n",
    "                train_size=train_size,\n",
    "                stratify=y[train],\n",
    "                shuffle=True,\n",
    "                random_state=self.random_state,\n",
    "            )\n",
    "\n",
    "            yield train, test"
   ]
  },
  {
   "cell_type": "code",
   "execution_count": 4,
   "metadata": {},
   "outputs": [],
   "source": [
    "data = load(\"../data/label.parquet\", \"../data/mRNA.omics.parquet\")\n",
    "\n",
    "data = data.loc[\n",
    "    data[\"clinical\", \"patient\"].notnull()\n",
    "    & data[\"clinical\", \"cancer_type\"].notnull()\n",
    "    & data[\"gene_expression\"].notnull().all(axis=1)\n",
    "    & (data[\"clinical\", \"cancer_type\"] != \"Normal\")\n",
    "    & (data[\"clinical\", \"sample_type\"] == \"Tumour\")\n",
    "]"
   ]
  },
  {
   "cell_type": "code",
   "execution_count": 5,
   "metadata": {},
   "outputs": [],
   "source": [
    "X = data[\"gene_expression\"]\n",
    "y = data[\"clinical\", \"cancer_type\"]\n",
    "g = data[\"clinical\", \"patient\"]"
   ]
  },
  {
   "cell_type": "code",
   "execution_count": 6,
   "metadata": {},
   "outputs": [
    {
     "name": "stdout",
     "output_type": "stream",
     "text": [
      "              precision    recall  f1-score   support\n",
      "\n",
      "   TCGA-BLCA       0.33      0.18      0.23       406\n",
      "   TCGA-BRCA       0.97      0.57      0.72      1101\n",
      "   TCGA-CESC       0.39      0.41      0.40       306\n",
      "   TCGA-COAD       0.83      0.66      0.73       460\n",
      "   TCGA-HNSC       0.48      0.66      0.56       522\n",
      "   TCGA-KIRC       0.53      0.83      0.65       534\n",
      "   TCGA-KIRP       0.69      0.57      0.63       291\n",
      "    TCGA-LGG       0.67      1.00      0.80       534\n",
      "   TCGA-LIHC       0.85      0.93      0.89       374\n",
      "   TCGA-LUAD       0.70      0.32      0.44       518\n",
      "   TCGA-LUSC       0.39      0.45      0.42       501\n",
      "     TCGA-OV       0.51      0.91      0.65       429\n",
      "   TCGA-PRAD       0.86      0.95      0.91       498\n",
      "   TCGA-SARC        nan      0.00      0.00       263\n",
      "   TCGA-SKCM       0.79      0.75      0.77       472\n",
      "   TCGA-STAD       0.51      0.79      0.62       412\n",
      "   TCGA-THCA       0.91      0.95      0.93       513\n",
      "   TCGA-UCEC       0.64      0.46      0.54       546\n",
      "\n",
      "    accuracy                           0.65      8680\n",
      "   macro avg       0.65      0.63      0.60      8680\n",
      "weighted avg       0.68      0.65      0.63      8680\n",
      "\n",
      "\n",
      "Accuracy: 64.93%\n"
     ]
    }
   ],
   "source": [
    "cv = GroupKShotsFold(10, k=1, random_state=0)\n",
    "\n",
    "non_zero_variance = VarianceThreshold()\n",
    "\n",
    "scaler = StandardScaler()\n",
    "\n",
    "classifier = LogisticRegression(\n",
    "    solver=\"lbfgs\",\n",
    "    multi_class=\"multinomial\",\n",
    "    max_iter=2000,\n",
    "    tol=1e-2,\n",
    "    class_weight=\"balanced\",\n",
    "    n_jobs=8,\n",
    "    random_state=0,\n",
    ")\n",
    "\n",
    "model = make_pipeline(non_zero_variance, scaler, classifier)\n",
    "\n",
    "y_pred = cross_val_predict(model, X, y, groups=g, cv=cv)\n",
    "\n",
    "report = metrics.classification_report(y, y_pred, zero_division=np.nan)\n",
    "print(report)\n",
    "print(f\"\\nAccuracy: {100 * metrics.accuracy_score(y, y_pred):.2f}%\")"
   ]
  }
 ],
 "metadata": {
  "kernelspec": {
   "display_name": "venv",
   "language": "python",
   "name": "python3"
  },
  "language_info": {
   "codemirror_mode": {
    "name": "ipython",
    "version": 3
   },
   "file_extension": ".py",
   "mimetype": "text/x-python",
   "name": "python",
   "nbconvert_exporter": "python",
   "pygments_lexer": "ipython3",
   "version": "3.10.12"
  }
 },
 "nbformat": 4,
 "nbformat_minor": 2
}
