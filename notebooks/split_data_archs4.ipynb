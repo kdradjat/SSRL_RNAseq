{
 "cells": [
  {
   "cell_type": "code",
   "execution_count": null,
   "id": "95b9370f-fd99-4ec6-b218-eb42d6182998",
   "metadata": {},
   "outputs": [],
   "source": [
    "import random\n",
    "import numpy as np  # manipulate N-dimensional arrays\n",
    "import pandas as pd  # data frame\n",
    "from sklearn import preprocessing\n",
    "from sklearn.model_selection import train_test_split"
   ]
  },
  {
   "cell_type": "markdown",
   "id": "8af10068-5ee0-4772-9dcc-73dd5058950c",
   "metadata": {},
   "source": [
    "## Utils"
   ]
  },
  {
   "cell_type": "code",
   "execution_count": null,
   "id": "a67ab105-f9f3-4239-a8ea-2ce1bea2c6fa",
   "metadata": {},
   "outputs": [],
   "source": [
    "def generate_indices(data, prop=1, val_prop=0.15, test_prop=0.15, rs=0):\n",
    "    \"\"\"Generated train, validation and test indices that will be used in the\n",
    "    dataloaders.\n",
    "\n",
    "    Args:\n",
    "        data (numpy.ndarray): 2-dimensional array of the dataset. The first column has\n",
    "            to contain the class (ex: cancer / no cancer) information.\n",
    "        prop (int, optional): Proportion of the dataset that is used to generate the\n",
    "            indices. Defaults to 1.\n",
    "        val_prop (float, optional): Proportion of data dedicated to the validation set.\n",
    "            Defaults to 0.15.\n",
    "        test_prop (float, optional): Proportion of data dedicated to the test set.\n",
    "            Defaults to 0.15.\n",
    "        rs (int, optional): Random state. Defaults to 0.\n",
    "\n",
    "    Returns:\n",
    "        (numpy.ndarray, numpy.ndarray, numpy.ndarray): Train, validation and test\n",
    "        indices.\n",
    "    \"\"\"\n",
    "    indices = list(range(len(data)))\n",
    "    \n",
    "    if test_prop != 0 :\n",
    "        train_idx, test_idx = train_test_split(\n",
    "            indices, test_size=test_prop, stratify=data[:,0], train_size=None, random_state=rs\n",
    "        )\n",
    "        train_idx, val_idx = train_test_split(\n",
    "            train_idx,\n",
    "            test_size=val_prop / (1 - test_prop),\n",
    "            train_size=None,\n",
    "            stratify=data[train_idx,0],\n",
    "            random_state=rs,\n",
    "        )\n",
    "    else :\n",
    "        train_idx, val_idx = train_test_split(\n",
    "            indices,\n",
    "            data[:,0],\n",
    "            test_size=val_prop,\n",
    "            train_size=None,\n",
    "            stratify=data[:,0],\n",
    "            random_state=rs,\n",
    "        )\n",
    "        test_idx=[]\n",
    "    if prop != 1:\n",
    "        modes = data[train_idx, 0]\n",
    "        subtrain_idx = []\n",
    "        for mode in np.unique(modes):\n",
    "            candidates = np.array(train_idx)[np.argwhere(modes == mode).flatten()]\n",
    "            selected_idx = candidates[: round(len(candidates) * prop)]\n",
    "            #selected_idx = np.random.choice(candidates, int(round(len(candidates)*prop)), replace=False)\n",
    "            subtrain_idx += selected_idx.tolist()\n",
    "        train_idx = subtrain_idx\n",
    "        print(len(train_idx))\n",
    "\n",
    "    return (train_idx, val_idx, test_idx)"
   ]
  },
  {
   "cell_type": "code",
   "execution_count": null,
   "id": "7fa21654-0ddd-447a-aed8-2a1505822c9f",
   "metadata": {},
   "outputs": [],
   "source": [
    "def read_process_data_ARCHS4(\n",
    "    data_path,\n",
    "    label_path\n",
    "):\n",
    "    class_df = pd.read_parquet(label_path)\n",
    "    data_df = pd.read_parquet(data_path)\n",
    "    labels = class_df[\"labels\"]\n",
    "    \n",
    "    # encoding cancer names to integers\n",
    "    le = preprocessing.LabelEncoder()\n",
    "    data_df.insert(0, 'labels', le.fit_transform(class_df[\"labels\"]))\n",
    "    print(data_df.columns)\n",
    "    np_dataset = data_df.to_numpy(dtype=np.float32)\n",
    "\n",
    "    # normal standardardization\n",
    "    scaler = preprocessing.StandardScaler()\n",
    "    np_dataset[:, 1:] = scaler.fit_transform(np_dataset[:, 1:])\n",
    "\n",
    "    return np_dataset\n"
   ]
  },
  {
   "cell_type": "markdown",
   "id": "74c8d509-00e0-471e-983d-90379365107b",
   "metadata": {},
   "source": [
    "## Import data"
   ]
  },
  {
   "cell_type": "code",
   "execution_count": null,
   "id": "71778e2e-b70c-424f-8e0f-75cd91a80710",
   "metadata": {},
   "outputs": [],
   "source": [
    "dataset = read_process_data_ARCHS4('specific_data_corrected.v2.parquet.gzip', 'specific_metadata.parquet.gzip')"
   ]
  },
  {
   "cell_type": "code",
   "execution_count": null,
   "id": "2ae25624-13cb-4638-9f69-f1ad430c6282",
   "metadata": {},
   "outputs": [],
   "source": [
    "data_orig = pd.read_parquet('specific_data_corrected.v2.parquet.gzip')\n",
    "metadata = pd.read_parquet('specific_metadata.parquet.gzip')"
   ]
  },
  {
   "cell_type": "markdown",
   "id": "e738e894-f260-44c5-b9d6-e2e8a0691b90",
   "metadata": {},
   "source": [
    "## Split"
   ]
  },
  {
   "cell_type": "code",
   "execution_count": null,
   "id": "a046f8d2-3623-457a-b288-135a2231b535",
   "metadata": {},
   "outputs": [],
   "source": [
    "idx = generate_indices(dataset, prop=1, val_prop=0.025, test_prop=0.025, rs=0)\n",
    "len(idx[0]), len(idx[1]), len(idx[2])"
   ]
  },
  {
   "cell_type": "code",
   "execution_count": null,
   "id": "af4f6b67-735b-44d2-acd8-dc99deae1260",
   "metadata": {},
   "outputs": [],
   "source": [
    "pretrain_data = pd.DataFrame(dataset[idx[0],1:], columns=data_orig.columns)\n",
    "nopretrain_data = pd.DataFrame(dataset[idx[1]+idx[2],1:], columns=data_orig.columns)"
   ]
  },
  {
   "cell_type": "code",
   "execution_count": null,
   "id": "ca7e8bfa-923f-496b-9df3-a23749cde9fd",
   "metadata": {},
   "outputs": [],
   "source": [
    "pretrain_metadata = metadata.iloc[idx[0]]\n",
    "nopretrain_metadata = metadata.iloc[idx[1]+idx[2]]"
   ]
  },
  {
   "cell_type": "code",
   "execution_count": null,
   "id": "0df8d498-7760-4f31-90ed-09a7cfbd82e2",
   "metadata": {},
   "outputs": [],
   "source": [
    "pretrain_data.shape, nopretrain_data.shape, pretrain_metadata.shape, nopretrain_metadata.shape"
   ]
  },
  {
   "cell_type": "code",
   "execution_count": null,
   "id": "406ad764-2e4f-4c07-b77b-d5dc3a9d823c",
   "metadata": {},
   "outputs": [],
   "source": [
    "pretrain_data.to_parquet('pretrain_specific_data.2.parquet.gzip', compression='gzip')\n",
    "nopretrain_data.to_parquet('nopretrain_specific_data.2.parquet.gzip', compression='gzip')"
   ]
  },
  {
   "cell_type": "code",
   "execution_count": null,
   "id": "befbf464-d399-49f1-8a28-e700651687df",
   "metadata": {},
   "outputs": [],
   "source": [
    "pretrain_metadata.to_parquet('pretrain_specific_metadata.2.parquet.gzip', compression='gzip')\n",
    "nopretrain_metadata.to_parquet('nopretrain_specific_metadata.2.parquet.gzip', compression='gzip')"
   ]
  },
  {
   "cell_type": "code",
   "execution_count": null,
   "id": "f7eff861-a510-4ff6-9d41-fc6656a34355",
   "metadata": {},
   "outputs": [],
   "source": []
  }
 ],
 "metadata": {
  "kernelspec": {
   "display_name": "Python 3.7",
   "language": "python",
   "name": "python3"
  },
  "language_info": {
   "codemirror_mode": {
    "name": "ipython",
    "version": 3
   },
   "file_extension": ".py",
   "mimetype": "text/x-python",
   "name": "python",
   "nbconvert_exporter": "python",
   "pygments_lexer": "ipython3",
   "version": "3.7.12"
  }
 },
 "nbformat": 4,
 "nbformat_minor": 5
}
